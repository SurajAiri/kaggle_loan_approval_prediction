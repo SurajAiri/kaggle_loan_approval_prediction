{
 "cells": [
  {
   "cell_type": "code",
   "execution_count": 3,
   "metadata": {},
   "outputs": [],
   "source": [
    "import warnings\n",
    "warnings.filterwarnings(\"ignore\")\n",
    "\n",
    "import numpy as np\n",
    "import pandas as pd\n",
    "from xgboost import XGBClassifier\n",
    "from sklearn.metrics import roc_auc_score\n",
    "from sklearn.model_selection import StratifiedKFold\n",
    "from catboost import CatBoostClassifier\n",
    "from sklearn.model_selection import train_test_split\n",
    "import matplotlib.pyplot as plt"
   ]
  },
  {
   "cell_type": "code",
   "execution_count": 63,
   "metadata": {},
   "outputs": [
    {
     "name": "stdout",
     "output_type": "stream",
     "text": [
      "['person_home_ownership', 'loan_intent', 'loan_grade', 'cb_person_default_on_file']\n"
     ]
    }
   ],
   "source": [
    "\n",
    "\n",
    "NUM_FOLD = 3\n",
    "\n",
    "train = pd.read_csv('../dataset/train.csv', index_col='id')\n",
    "test = pd.read_csv('../dataset/test.csv', index_col='id')\n",
    "\n",
    "\n",
    "cat_cols = list(test.select_dtypes(include=['object']).columns)\n",
    "print(cat_cols)\n",
    "\n",
    "for df in [train, test]:\n",
    "    for col in cat_cols:\n",
    "        df[col] = df[col].astype('str').astype('category')\n",
    "        # df[col] = df[col].astype('str')\n",
    "\n",
    "# train['person_home_ownership'] = train['person_home_ownership'].astype(str)\n",
    "# test['person_home_ownership'] = test['person_home_ownership'].astype(str)\n",
    "\n",
    "\n",
    "\n",
    "X = train.drop(['loan_status'], axis=1)\n",
    "y = train['loan_status']\n",
    "\n",
    "X, _, y, _ = train_test_split(X, y, test_size=0.8, random_state=42, stratify=y)\n",
    "\n"
   ]
  },
  {
   "cell_type": "code",
   "execution_count": 64,
   "metadata": {},
   "outputs": [],
   "source": [
    "# # train.info()\n",
    "# for col in cat_cols:\n",
    "#     print(col)\n",
    "#     print(train[col].value_counts())\n",
    "#     print(test[col].value_counts())\n",
    "#     print('')"
   ]
  },
  {
   "cell_type": "code",
   "execution_count": 65,
   "metadata": {},
   "outputs": [],
   "source": [
    "# def objective_func(trial):\n",
    "#     params = {\n",
    "#         'n_estimators': 1000,\n",
    "#         'learning_rate': 0.01,\n",
    "#         'max_depth': trial.suggest_int('max_depth', 3, 10),\n",
    "#         'subsample': trial.suggest_uniform('subsample', 0.5, 1.0),\n",
    "#         'colsample_bytree': trial.suggest_uniform('colsample_bytree', 0.5, 1.0),\n",
    "#         'gamma': trial.suggest_uniform('gamma', 0.0, 0.5),\n",
    "#         'min_child_weight': trial.suggest_int('min_child_weight', 1, 300),\n",
    "#         'reg_alpha': trial.suggest_uniform('reg_alpha', 0.0, 1.0),\n",
    "#         'reg_lambda': trial.suggest_uniform('reg_lambda', 0.0, 1.0),\n",
    "#         'random_state': 0,\n",
    "#         'n_jobs': -1,\n",
    "#         'tree_method': 'gpu_hist',\n",
    "#         'predictor': 'gpu_predictor'\n",
    "#     }\n",
    "\n",
    "#     skf = StratifiedKFold(n_splits=NUM_FOLD, shuffle=True, random_state=0)\n",
    "#     scores = []\n",
    "#     for train_idx, valid_idx in skf.split(X, y):\n",
    "#         X_train, X_valid = X.iloc[train_idx], X.iloc[valid_idx]\n",
    "#         y_train, y_valid = y.iloc[train_idx], y.iloc[valid_idx]\n",
    "\n",
    "#         model = XGBClassifier(**params)\n",
    "#         model.fit(X_train, y_train, eval_set=[(X_valid, y_valid)], early_stopping_rounds=100, verbose=False)\n",
    "#         y_pred = model.predict_proba(X_valid)[:, 1]\n",
    "#         score = roc_auc_score(y_valid, y_pred)\n",
    "#         scores.append(score)\n",
    "\n",
    "#     return np.mean(scores)"
   ]
  },
  {
   "cell_type": "code",
   "execution_count": 66,
   "metadata": {},
   "outputs": [],
   "source": [
    "def objective_func(trial):\n",
    "\n",
    "# # test 1\n",
    "#     params = {\n",
    "#     'iterations': trial.suggest_int('iterations', 200, 1000),\n",
    "#     'depth': trial.suggest_int('depth', 3, 15),\n",
    "#     'learning_rate': trial.suggest_float('learning_rate', 1e-3, 0.1),\n",
    "#     'l2_leaf_reg': trial.suggest_float('l2_leaf_reg', 0, 10),\n",
    "#     'border_count': trial.suggest_int('border_count', 32, 256),\n",
    "#     'random_strength': trial.suggest_float('random_strength', 0.5, 8),\n",
    "#     'bagging_temperature': trial.suggest_float('bagging_temperature', 0, 1.5),\n",
    "#     # 'bootstrap_type': trial.suggest_categorical('bootstrap_type', ['Bayesian', 'Bernoulli']),\n",
    "#     'scale_pos_weight': trial.suggest_float('scale_pos_weight', 1, 10),\n",
    "#     'verbose': False,\n",
    "#     'task_type': 'CPU',\n",
    "# }\n",
    "\n",
    "    # # test 2\n",
    "    # params = {\n",
    "    #     'iterations': trial.suggest_int('iterations', 600, 1500),\n",
    "    #     'depth': trial.suggest_int('depth', 1, 8),\n",
    "    #     'learning_rate': trial.suggest_float('learning_rate', 0.01, 0.1),\n",
    "    #     'l2_leaf_reg': trial.suggest_float('l2_leaf_reg', 6, 15),\n",
    "    #     'border_count': trial.suggest_int('border_count', 190, 300),\n",
    "    #     'random_strength': trial.suggest_float('random_strength', 6, 12),\n",
    "    #     'bagging_temperature': trial.suggest_float('bagging_temperature', 0.5, 1.5),\n",
    "    #     'scale_pos_weight': trial.suggest_float('scale_pos_weight', 0, 8),\n",
    "    #     'verbose': False,\n",
    "    #     'task_type': 'CPU',\n",
    "    # }\n",
    "\n",
    "    # test 3\n",
    "    params = {\n",
    "        'iterations': trial.suggest_int('iterations', 800, 1500),\n",
    "        'depth': trial.suggest_int('depth', 2, 6),\n",
    "        'learning_rate': trial.suggest_float('learning_rate', 0.05, 0.1),\n",
    "        'l2_leaf_reg': trial.suggest_float('l2_leaf_reg', 5, 10),\n",
    "        'border_count': trial.suggest_int('border_count', 210, 350),\n",
    "        'random_strength': trial.suggest_float('random_strength', 4,10),\n",
    "        'bagging_temperature': trial.suggest_float('bagging_temperature',1,2),\n",
    "        'scale_pos_weight': trial.suggest_float('scale_pos_weight', 2, 8),\n",
    "        'verbose': False,\n",
    "        'task_type': 'CPU',\n",
    "    }\n",
    "\n",
    "\n",
    "    skf = StratifiedKFold(n_splits=NUM_FOLD, shuffle=True, random_state=42)\n",
    "    scores = []\n",
    "\n",
    "    for train_idx, valid_idx in skf.split(X, y):\n",
    "        X_train, X_valid = X.iloc[train_idx], X.iloc[valid_idx]\n",
    "        y_train, y_valid = y.iloc[train_idx], y.iloc[valid_idx]\n",
    "\n",
    "        model = CatBoostClassifier(**params,cat_features=cat_cols)\n",
    "        model.fit(X_train, y_train, eval_set=[(X_valid, y_valid)], early_stopping_rounds=100, verbose=False)\n",
    "        y_pred = model.predict_proba(X_valid)[:, 1]\n",
    "        score = roc_auc_score(y_valid, y_pred)\n",
    "        scores.append(score)\n",
    "\n",
    "    return np.mean(scores)"
   ]
  },
  {
   "cell_type": "code",
   "execution_count": 67,
   "metadata": {},
   "outputs": [
    {
     "name": "stderr",
     "output_type": "stream",
     "text": [
      "[I 2024-10-14 11:02:10,376] A new study created in memory with name: catboost\n",
      "[I 2024-10-14 11:02:18,288] Trial 0 finished with value: 0.9444188221592883 and parameters: {'iterations': 1171, 'depth': 3, 'learning_rate': 0.08730001065254281, 'l2_leaf_reg': 6.49608236156072, 'border_count': 250, 'random_strength': 7.10500113703489, 'bagging_temperature': 1.8711261410956084, 'scale_pos_weight': 3.61785929465903}. Best is trial 0 with value: 0.9444188221592883.\n",
      "[I 2024-10-14 11:02:25,807] Trial 1 finished with value: 0.9434513979471056 and parameters: {'iterations': 1012, 'depth': 3, 'learning_rate': 0.09455849148087528, 'l2_leaf_reg': 7.213745550575636, 'border_count': 238, 'random_strength': 6.890887628274032, 'bagging_temperature': 1.39774044291482, 'scale_pos_weight': 2.64379218999511}. Best is trial 0 with value: 0.9444188221592883.\n",
      "[I 2024-10-14 11:02:31,154] Trial 2 finished with value: 0.939192024613901 and parameters: {'iterations': 933, 'depth': 6, 'learning_rate': 0.08904343813390456, 'l2_leaf_reg': 9.940110741077433, 'border_count': 266, 'random_strength': 8.292041818671379, 'bagging_temperature': 1.076592622483413, 'scale_pos_weight': 2.1150925094358906}. Best is trial 0 with value: 0.9444188221592883.\n",
      "[I 2024-10-14 11:02:39,668] Trial 3 finished with value: 0.943558919415604 and parameters: {'iterations': 895, 'depth': 4, 'learning_rate': 0.056420162309349126, 'l2_leaf_reg': 7.168231682778055, 'border_count': 298, 'random_strength': 5.169808451840589, 'bagging_temperature': 1.259916131019349, 'scale_pos_weight': 3.937850604221061}. Best is trial 0 with value: 0.9444188221592883.\n",
      "[I 2024-10-14 11:02:44,638] Trial 4 finished with value: 0.9421132479293343 and parameters: {'iterations': 1108, 'depth': 4, 'learning_rate': 0.08997477936862638, 'l2_leaf_reg': 6.696202398730382, 'border_count': 308, 'random_strength': 7.348602639980687, 'bagging_temperature': 1.8919219647127754, 'scale_pos_weight': 7.739252413130245}. Best is trial 0 with value: 0.9444188221592883.\n",
      "[I 2024-10-14 11:02:52,164] Trial 5 finished with value: 0.9422059391714609 and parameters: {'iterations': 834, 'depth': 4, 'learning_rate': 0.055264497343139096, 'l2_leaf_reg': 8.885279605524655, 'border_count': 343, 'random_strength': 8.768421758716373, 'bagging_temperature': 1.0079010311716816, 'scale_pos_weight': 7.244897071829073}. Best is trial 0 with value: 0.9444188221592883.\n",
      "[I 2024-10-14 11:03:01,590] Trial 6 finished with value: 0.9424396021495983 and parameters: {'iterations': 1458, 'depth': 2, 'learning_rate': 0.07929117156817381, 'l2_leaf_reg': 5.801564357142548, 'border_count': 224, 'random_strength': 5.161563858955919, 'bagging_temperature': 1.600930797142666, 'scale_pos_weight': 7.747093289913479}. Best is trial 0 with value: 0.9444188221592883.\n",
      "[I 2024-10-14 11:03:09,861] Trial 7 finished with value: 0.9439478331862136 and parameters: {'iterations': 875, 'depth': 4, 'learning_rate': 0.06030154045900804, 'l2_leaf_reg': 8.919728128581816, 'border_count': 318, 'random_strength': 9.681466075603801, 'bagging_temperature': 1.0577449618291968, 'scale_pos_weight': 5.0442632237227505}. Best is trial 0 with value: 0.9444188221592883.\n",
      "[I 2024-10-14 11:03:16,167] Trial 8 finished with value: 0.9423950508000627 and parameters: {'iterations': 1161, 'depth': 5, 'learning_rate': 0.08384262160121625, 'l2_leaf_reg': 9.693623453480045, 'border_count': 336, 'random_strength': 5.330019567842646, 'bagging_temperature': 1.9909325614750815, 'scale_pos_weight': 2.2192597367904723}. Best is trial 0 with value: 0.9444188221592883.\n",
      "[I 2024-10-14 11:03:21,265] Trial 9 finished with value: 0.9418273101607534 and parameters: {'iterations': 1159, 'depth': 5, 'learning_rate': 0.08666805545335524, 'l2_leaf_reg': 6.825520750739972, 'border_count': 221, 'random_strength': 6.1269687924718115, 'bagging_temperature': 1.7896345599196997, 'scale_pos_weight': 3.2140882475328096}. Best is trial 0 with value: 0.9444188221592883.\n",
      "[I 2024-10-14 11:03:31,295] Trial 10 finished with value: 0.9431465505886015 and parameters: {'iterations': 1363, 'depth': 2, 'learning_rate': 0.0704804682221655, 'l2_leaf_reg': 5.055156361810699, 'border_count': 265, 'random_strength': 4.226950989483852, 'bagging_temperature': 1.6899795830877036, 'scale_pos_weight': 5.28425089564801}. Best is trial 0 with value: 0.9444188221592883.\n",
      "[I 2024-10-14 11:03:40,906] Trial 11 finished with value: 0.9437531899560442 and parameters: {'iterations': 1288, 'depth': 3, 'learning_rate': 0.06920339437904127, 'l2_leaf_reg': 8.395231039223958, 'border_count': 312, 'random_strength': 9.576885000811723, 'bagging_temperature': 1.4730759242391591, 'scale_pos_weight': 5.078846623739837}. Best is trial 0 with value: 0.9444188221592883.\n",
      "[I 2024-10-14 11:03:47,815] Trial 12 finished with value: 0.9434529853292873 and parameters: {'iterations': 1049, 'depth': 3, 'learning_rate': 0.09973070750112617, 'l2_leaf_reg': 8.142037879190944, 'border_count': 249, 'random_strength': 9.321428037964239, 'bagging_temperature': 1.2972932932745647, 'scale_pos_weight': 4.199383935633602}. Best is trial 0 with value: 0.9444188221592883.\n",
      "[I 2024-10-14 11:03:54,002] Trial 13 finished with value: 0.9409516719494939 and parameters: {'iterations': 1244, 'depth': 5, 'learning_rate': 0.06367211106156977, 'l2_leaf_reg': 6.036326273813918, 'border_count': 286, 'random_strength': 7.9036278249640315, 'bagging_temperature': 1.1762132941452652, 'scale_pos_weight': 6.052604558005194}. Best is trial 0 with value: 0.9444188221592883.\n",
      "[I 2024-10-14 11:04:00,953] Trial 14 finished with value: 0.9409299041086211 and parameters: {'iterations': 803, 'depth': 3, 'learning_rate': 0.05057145355078463, 'l2_leaf_reg': 8.023811636562836, 'border_count': 325, 'random_strength': 6.569771259791736, 'bagging_temperature': 1.5804723899812476, 'scale_pos_weight': 5.9551725189443045}. Best is trial 0 with value: 0.9444188221592883.\n",
      "[I 2024-10-14 11:04:08,656] Trial 15 finished with value: 0.9417451315938673 and parameters: {'iterations': 969, 'depth': 2, 'learning_rate': 0.07887038223385402, 'l2_leaf_reg': 9.071288798590077, 'border_count': 272, 'random_strength': 9.93990838328186, 'bagging_temperature': 1.7624710970568755, 'scale_pos_weight': 3.540230804104582}. Best is trial 0 with value: 0.9444188221592883.\n",
      "[I 2024-10-14 11:04:14,353] Trial 16 finished with value: 0.9406358737404853 and parameters: {'iterations': 1239, 'depth': 6, 'learning_rate': 0.06406175320467755, 'l2_leaf_reg': 6.209440983794098, 'border_count': 250, 'random_strength': 7.683085364137511, 'bagging_temperature': 1.3944486583404065, 'scale_pos_weight': 4.53824685688398}. Best is trial 0 with value: 0.9444188221592883.\n",
      "[I 2024-10-14 11:04:23,004] Trial 17 finished with value: 0.9441452197466408 and parameters: {'iterations': 1076, 'depth': 3, 'learning_rate': 0.07395309695769371, 'l2_leaf_reg': 7.5150483464396585, 'border_count': 293, 'random_strength': 8.575540415983841, 'bagging_temperature': 1.9684821748887695, 'scale_pos_weight': 5.976624372869051}. Best is trial 0 with value: 0.9444188221592883.\n",
      "[I 2024-10-14 11:04:31,218] Trial 18 finished with value: 0.9439211645235478 and parameters: {'iterations': 1074, 'depth': 3, 'learning_rate': 0.0753204320316641, 'l2_leaf_reg': 7.724846385641786, 'border_count': 286, 'random_strength': 8.976112486897224, 'bagging_temperature': 1.9660924858661055, 'scale_pos_weight': 6.494738958654587}. Best is trial 0 with value: 0.9444188221592883.\n",
      "[I 2024-10-14 11:04:41,455] Trial 19 finished with value: 0.9428048255653038 and parameters: {'iterations': 1350, 'depth': 2, 'learning_rate': 0.08032819520792116, 'l2_leaf_reg': 5.325485051755596, 'border_count': 242, 'random_strength': 8.421002426710121, 'bagging_temperature': 1.8445906307223516, 'scale_pos_weight': 6.707381254881687}. Best is trial 0 with value: 0.9444188221592883.\n",
      "[I 2024-10-14 11:04:49,669] Trial 20 finished with value: 0.9433565225698196 and parameters: {'iterations': 1208, 'depth': 3, 'learning_rate': 0.07186501787423327, 'l2_leaf_reg': 6.602061281491187, 'border_count': 294, 'random_strength': 6.0831003695154, 'bagging_temperature': 1.6886534255391885, 'scale_pos_weight': 5.65512619745603}. Best is trial 0 with value: 0.9444188221592883.\n",
      "[I 2024-10-14 11:04:57,261] Trial 21 finished with value: 0.9431328769523212 and parameters: {'iterations': 877, 'depth': 4, 'learning_rate': 0.0633380900365471, 'l2_leaf_reg': 8.828583283502835, 'border_count': 323, 'random_strength': 9.83120926254904, 'bagging_temperature': 1.9008136963581863, 'scale_pos_weight': 4.820836192203977}. Best is trial 0 with value: 0.9444188221592883.\n",
      "[I 2024-10-14 11:05:05,433] Trial 22 finished with value: 0.9426294129325766 and parameters: {'iterations': 1006, 'depth': 4, 'learning_rate': 0.05819943291349927, 'l2_leaf_reg': 9.358315210141587, 'border_count': 304, 'random_strength': 9.033346672559539, 'bagging_temperature': 1.9884003867996403, 'scale_pos_weight': 5.455750498865434}. Best is trial 0 with value: 0.9444188221592883.\n",
      "[I 2024-10-14 11:05:13,637] Trial 23 finished with value: 0.9447339632659052 and parameters: {'iterations': 1108, 'depth': 3, 'learning_rate': 0.09310272866903951, 'l2_leaf_reg': 7.482278554553972, 'border_count': 320, 'random_strength': 8.183817730995457, 'bagging_temperature': 1.7613276629474108, 'scale_pos_weight': 3.1365059505795965}. Best is trial 23 with value: 0.9447339632659052.\n",
      "[I 2024-10-14 11:05:21,379] Trial 24 finished with value: 0.9432217703544902 and parameters: {'iterations': 1117, 'depth': 3, 'learning_rate': 0.09356041223771588, 'l2_leaf_reg': 7.567503083162675, 'border_count': 211, 'random_strength': 7.777387790703275, 'bagging_temperature': 1.7623096544174823, 'scale_pos_weight': 3.12186455131626}. Best is trial 23 with value: 0.9447339632659052.\n",
      "[I 2024-10-14 11:05:29,661] Trial 25 finished with value: 0.9426411123726149 and parameters: {'iterations': 1194, 'depth': 2, 'learning_rate': 0.09957266663529026, 'l2_leaf_reg': 7.106933473215116, 'border_count': 277, 'random_strength': 7.209147924800532, 'bagging_temperature': 1.8780587650686484, 'scale_pos_weight': 3.858704328070301}. Best is trial 23 with value: 0.9447339632659052.\n",
      "[I 2024-10-14 11:05:38,426] Trial 26 finished with value: 0.9453183661214973 and parameters: {'iterations': 1067, 'depth': 3, 'learning_rate': 0.0841990792350764, 'l2_leaf_reg': 6.413902388632446, 'border_count': 336, 'random_strength': 8.38586890066491, 'bagging_temperature': 1.6892210643653012, 'scale_pos_weight': 2.758624859993902}. Best is trial 26 with value: 0.9453183661214973.\n",
      "[I 2024-10-14 11:05:46,219] Trial 27 finished with value: 0.9441372465618834 and parameters: {'iterations': 1293, 'depth': 3, 'learning_rate': 0.0939635418502434, 'l2_leaf_reg': 6.282725982892258, 'border_count': 337, 'random_strength': 8.28239604493688, 'bagging_temperature': 1.6698932621180465, 'scale_pos_weight': 2.622729118276312}. Best is trial 26 with value: 0.9453183661214973.\n",
      "[I 2024-10-14 11:05:54,354] Trial 28 finished with value: 0.9426622985478632 and parameters: {'iterations': 1037, 'depth': 2, 'learning_rate': 0.0842409334585318, 'l2_leaf_reg': 5.712625948057856, 'border_count': 348, 'random_strength': 6.778447541187455, 'bagging_temperature': 1.534923490935287, 'scale_pos_weight': 2.8628279587775887}. Best is trial 26 with value: 0.9453183661214973.\n",
      "[I 2024-10-14 11:06:02,402] Trial 29 finished with value: 0.9445945622196849 and parameters: {'iterations': 1116, 'depth': 3, 'learning_rate': 0.09079916035470646, 'l2_leaf_reg': 6.495830337093633, 'border_count': 335, 'random_strength': 7.445677827689878, 'bagging_temperature': 1.8163559555416737, 'scale_pos_weight': 2.582413349521312}. Best is trial 26 with value: 0.9453183661214973.\n",
      "[I 2024-10-14 11:06:09,667] Trial 30 finished with value: 0.9441193314532539 and parameters: {'iterations': 962, 'depth': 4, 'learning_rate': 0.09099485432239579, 'l2_leaf_reg': 6.888036367705478, 'border_count': 330, 'random_strength': 7.452900372775596, 'bagging_temperature': 1.6494568673503438, 'scale_pos_weight': 2.0209603859850462}. Best is trial 26 with value: 0.9453183661214973.\n",
      "[I 2024-10-14 11:06:16,913] Trial 31 finished with value: 0.9450242577485343 and parameters: {'iterations': 1130, 'depth': 3, 'learning_rate': 0.09656119519021858, 'l2_leaf_reg': 6.374152614583883, 'border_count': 350, 'random_strength': 6.968232767215771, 'bagging_temperature': 1.7829849363169146, 'scale_pos_weight': 2.679999827943974}. Best is trial 26 with value: 0.9453183661214973.\n",
      "[I 2024-10-14 11:06:24,834] Trial 32 finished with value: 0.9445590989140205 and parameters: {'iterations': 1119, 'depth': 3, 'learning_rate': 0.09674839332379592, 'l2_leaf_reg': 6.457762241779638, 'border_count': 347, 'random_strength': 7.908339708286708, 'bagging_temperature': 1.788826410288161, 'scale_pos_weight': 2.4805699379664854}. Best is trial 26 with value: 0.9453183661214973.\n",
      "[I 2024-10-14 11:06:33,592] Trial 33 finished with value: 0.9434774435341772 and parameters: {'iterations': 1119, 'depth': 2, 'learning_rate': 0.09173924663238722, 'l2_leaf_reg': 5.655460838431743, 'border_count': 332, 'random_strength': 6.3672502854746, 'bagging_temperature': 1.7304190061646443, 'scale_pos_weight': 3.3693146122401996}. Best is trial 26 with value: 0.9453183661214973.\n",
      "[I 2024-10-14 11:06:41,916] Trial 34 finished with value: 0.9448869830561201 and parameters: {'iterations': 1004, 'depth': 3, 'learning_rate': 0.08627395541653658, 'l2_leaf_reg': 7.306338575207354, 'border_count': 350, 'random_strength': 8.253926290137155, 'bagging_temperature': 1.8317481156948332, 'scale_pos_weight': 2.875010127186187}. Best is trial 26 with value: 0.9453183661214973.\n",
      "[I 2024-10-14 11:06:50,360] Trial 35 finished with value: 0.9445926708433828 and parameters: {'iterations': 999, 'depth': 3, 'learning_rate': 0.0865884105924118, 'l2_leaf_reg': 7.078495842337382, 'border_count': 343, 'random_strength': 8.03987232972944, 'bagging_temperature': 1.5843478792214092, 'scale_pos_weight': 2.886918397711797}. Best is trial 26 with value: 0.9453183661214973.\n",
      "[I 2024-10-14 11:06:56,554] Trial 36 finished with value: 0.9445941189083013 and parameters: {'iterations': 928, 'depth': 4, 'learning_rate': 0.09636983279373913, 'l2_leaf_reg': 7.790012377575373, 'border_count': 349, 'random_strength': 7.069148576267827, 'bagging_temperature': 1.902559445706582, 'scale_pos_weight': 3.800835176034825}. Best is trial 26 with value: 0.9453183661214973.\n",
      "[I 2024-10-14 11:07:05,414] Trial 37 finished with value: 0.9439859512240605 and parameters: {'iterations': 1061, 'depth': 3, 'learning_rate': 0.08259865317723734, 'l2_leaf_reg': 8.427441906330234, 'border_count': 317, 'random_strength': 8.208143348115643, 'bagging_temperature': 1.7276059050382988, 'scale_pos_weight': 2.3262151851120945}. Best is trial 26 with value: 0.9453183661214973.\n",
      "[I 2024-10-14 11:07:12,512] Trial 38 finished with value: 0.9440683634844205 and parameters: {'iterations': 1021, 'depth': 4, 'learning_rate': 0.0875770951694634, 'l2_leaf_reg': 7.175198377532662, 'border_count': 341, 'random_strength': 8.821437714547725, 'bagging_temperature': 1.6339018595634751, 'scale_pos_weight': 2.921706682187938}. Best is trial 26 with value: 0.9453183661214973.\n",
      "[I 2024-10-14 11:07:19,939] Trial 39 finished with value: 0.9428175602545913 and parameters: {'iterations': 928, 'depth': 2, 'learning_rate': 0.09649834263543945, 'l2_leaf_reg': 5.972883578402201, 'border_count': 327, 'random_strength': 9.335902997321135, 'bagging_temperature': 1.8371912383216888, 'scale_pos_weight': 4.323400514406434}. Best is trial 26 with value: 0.9453183661214973.\n",
      "[I 2024-10-14 11:07:25,011] Trial 40 finished with value: 0.9424307095993063 and parameters: {'iterations': 979, 'depth': 5, 'learning_rate': 0.08861841490017805, 'l2_leaf_reg': 7.418145871676842, 'border_count': 320, 'random_strength': 5.616539205186128, 'bagging_temperature': 1.4903674228320452, 'scale_pos_weight': 3.4673420895973575}. Best is trial 26 with value: 0.9453183661214973.\n",
      "[I 2024-10-14 11:07:33,060] Trial 41 finished with value: 0.9457814525314684 and parameters: {'iterations': 1096, 'depth': 3, 'learning_rate': 0.09168434119589226, 'l2_leaf_reg': 6.448523852836537, 'border_count': 338, 'random_strength': 7.510999845955329, 'bagging_temperature': 1.8214407526464864, 'scale_pos_weight': 2.484717579219497}. Best is trial 41 with value: 0.9457814525314684.\n",
      "[I 2024-10-14 11:07:39,694] Trial 42 finished with value: 0.9434957830147467 and parameters: {'iterations': 1084, 'depth': 3, 'learning_rate': 0.09296239245196648, 'l2_leaf_reg': 6.890219971066474, 'border_count': 350, 'random_strength': 6.85283404897545, 'bagging_temperature': 1.9265553461740221, 'scale_pos_weight': 3.145473842170497}. Best is trial 41 with value: 0.9457814525314684.\n",
      "[I 2024-10-14 11:07:47,971] Trial 43 finished with value: 0.9454141127131899 and parameters: {'iterations': 1147, 'depth': 3, 'learning_rate': 0.08444760562444853, 'l2_leaf_reg': 7.339284603518149, 'border_count': 341, 'random_strength': 8.569765472270998, 'bagging_temperature': 1.7337024911997378, 'scale_pos_weight': 2.323333235440323}. Best is trial 41 with value: 0.9457814525314684.\n",
      "[I 2024-10-14 11:07:54,819] Trial 44 finished with value: 0.9431717856316872 and parameters: {'iterations': 1149, 'depth': 4, 'learning_rate': 0.085486497797935, 'l2_leaf_reg': 6.7317488850710046, 'border_count': 339, 'random_strength': 7.6250663157965555, 'bagging_temperature': 1.7097736199358442, 'scale_pos_weight': 2.28441076424597}. Best is trial 41 with value: 0.9457814525314684.\n",
      "[I 2024-10-14 11:08:04,220] Trial 45 finished with value: 0.9447253670055531 and parameters: {'iterations': 1179, 'depth': 3, 'learning_rate': 0.08259394829184818, 'l2_leaf_reg': 6.3260252228953275, 'border_count': 331, 'random_strength': 8.66802212863144, 'bagging_temperature': 1.8224908781551403, 'scale_pos_weight': 2.013834292539976}. Best is trial 41 with value: 0.9457814525314684.\n",
      "[I 2024-10-14 11:08:13,323] Trial 46 finished with value: 0.9444110524932977 and parameters: {'iterations': 1141, 'depth': 3, 'learning_rate': 0.07732224907540586, 'l2_leaf_reg': 5.910063297280863, 'border_count': 311, 'random_strength': 7.205396261392259, 'bagging_temperature': 1.6150272967832746, 'scale_pos_weight': 2.79993880286824}. Best is trial 41 with value: 0.9457814525314684.\n",
      "[I 2024-10-14 11:08:23,046] Trial 47 finished with value: 0.9434133299864319 and parameters: {'iterations': 1219, 'depth': 2, 'learning_rate': 0.08923902788719726, 'l2_leaf_reg': 5.411915364805595, 'border_count': 342, 'random_strength': 8.422641721727096, 'bagging_temperature': 1.5322281364120012, 'scale_pos_weight': 2.406100499511983}. Best is trial 41 with value: 0.9457814525314684.\n",
      "[I 2024-10-14 11:08:31,027] Trial 48 finished with value: 0.9440657472731404 and parameters: {'iterations': 1500, 'depth': 4, 'learning_rate': 0.0813412085944605, 'l2_leaf_reg': 6.9498330378926365, 'border_count': 337, 'random_strength': 9.068301687657808, 'bagging_temperature': 1.801783032543311, 'scale_pos_weight': 3.6745102661750555}. Best is trial 41 with value: 0.9457814525314684.\n",
      "[I 2024-10-14 11:08:38,533] Trial 49 finished with value: 0.9445418784656624 and parameters: {'iterations': 1054, 'depth': 3, 'learning_rate': 0.09754969607912925, 'l2_leaf_reg': 7.3024706701580575, 'border_count': 343, 'random_strength': 9.369502365645868, 'bagging_temperature': 1.4362888754080705, 'scale_pos_weight': 2.664099023524454}. Best is trial 41 with value: 0.9457814525314684.\n"
     ]
    }
   ],
   "source": [
    "import optuna\n",
    "study = optuna.create_study(direction='maximize', study_name='catboost')\n",
    "study.optimize(objective_func, n_trials=50)"
   ]
  },
  {
   "cell_type": "code",
   "execution_count": 68,
   "metadata": {},
   "outputs": [
    {
     "data": {
      "text/plain": [
       "(0.9457814525314684,\n",
       " {'iterations': 1096,\n",
       "  'depth': 3,\n",
       "  'learning_rate': 0.09168434119589226,\n",
       "  'l2_leaf_reg': 6.448523852836537,\n",
       "  'border_count': 338,\n",
       "  'random_strength': 7.510999845955329,\n",
       "  'bagging_temperature': 1.8214407526464864,\n",
       "  'scale_pos_weight': 2.484717579219497})"
      ]
     },
     "execution_count": 68,
     "metadata": {},
     "output_type": "execute_result"
    }
   ],
   "source": [
    "study.best_value, study.best_params"
   ]
  },
  {
   "cell_type": "code",
   "execution_count": 5,
   "metadata": {},
   "outputs": [],
   "source": [
    "\n",
    "NUM_FOLD = 5\n",
    "\n",
    "train = pd.read_csv('../dataset/train.csv', index_col='id')\n",
    "test = pd.read_csv('../dataset/test.csv', index_col='id')\n",
    "original = pd.read_csv('../dataset/original.csv')\n",
    "sample_submission = pd.read_csv('../dataset/sample_submission.csv')\n",
    "\n",
    "# accepted_cols = ['person_income', 'person_home_ownership', 'loan_intent',\n",
    "#        'loan_grade', 'loan_int_rate', 'loan_percent_income','loan_status']\n",
    "\n",
    "# train = train[accepted_cols]\n",
    "# original = original[accepted_cols]\n",
    "# accepted_cols.remove(\"loan_status\")\n",
    "# test = test[accepted_cols]\n",
    "\n",
    "\n",
    "\n",
    "cat_cols = list(test.select_dtypes(include=['object']).columns)\n",
    "\n",
    "for df in [train, test, original]:\n",
    "    for col in cat_cols:\n",
    "        df[col] = df[col].astype('str').astype('category')\n",
    "\n",
    "\n",
    "X = train.drop(['loan_status'], axis=1)\n",
    "y = train['loan_status']\n",
    "X_original = original.drop(['loan_status'], axis=1)\n",
    "y_original = original['loan_status']\n",
    "\n",
    "\n",
    "\n"
   ]
  },
  {
   "cell_type": "code",
   "execution_count": 6,
   "metadata": {},
   "outputs": [
    {
     "name": "stdout",
     "output_type": "stream",
     "text": [
      "Fold 0: roc_auc_score= 0.95439\n",
      "Fold 1: roc_auc_score= 0.96501\n",
      "Fold 2: roc_auc_score= 0.95704\n",
      "Fold 3: roc_auc_score= 0.96156\n",
      "Fold 4: roc_auc_score= 0.96017\n",
      "mean validation roc_auc_score = 0.95963\n",
      "std validation roc_auc_score = 0.00367\n"
     ]
    }
   ],
   "source": [
    "\n",
    "val_scores = []\n",
    "test_preds_model = []\n",
    "\n",
    "skf = StratifiedKFold(n_splits=NUM_FOLD, shuffle=True, random_state=42)\n",
    "\n",
    "# # test 1\n",
    "# params = {'iterations': 851,\n",
    "#  'depth': 4,\n",
    "#  'learning_rate': 0.06494509431596682,\n",
    "#  'l2_leaf_reg': 8.746710106832758,\n",
    "#  'border_count': 235,\n",
    "#  'random_strength': 7.170782740118952,\n",
    "#  'bagging_temperature': 1.1593003068750296,\n",
    "#  'scale_pos_weight': 4.225078016431598}\n",
    "\n",
    "# test 2\n",
    "params = {'iterations': 1210,\n",
    "  'depth': 3,\n",
    "  'learning_rate': 0.06911827924093912,\n",
    "  'l2_leaf_reg': 7.31536976872598,\n",
    "  'border_count': 270,\n",
    "  'random_strength': 7.740387767020672,\n",
    "  'bagging_temperature': 1.4998527262934331,\n",
    "  'scale_pos_weight': 5.665303215654214}\n",
    "\n",
    "for Fold, (train_index, val_index) in enumerate(skf.split(X, y)):\n",
    "\n",
    "    X_train, X_val = X.iloc[train_index], X.iloc[val_index]\n",
    "    y_train, y_val = y[train_index], y[val_index]\n",
    "\n",
    "    X_train = pd.concat([X_train, X_original], axis=0)\n",
    "    y_train = pd.concat([y_train, y_original]) \n",
    "\n",
    "    model = CatBoostClassifier(**params,cat_features=cat_cols)\n",
    "    # model.fit(X_train, y_train)\n",
    "    model.fit(X_train, y_train, eval_set=[(X_val, y_val)], early_stopping_rounds=100, verbose=False)\n",
    "\n",
    "    y_pred = model.predict_proba(X_val)[:, 1]\n",
    "\n",
    "    roc_auc_score_ = roc_auc_score(y_val, y_pred)\n",
    "\n",
    "    print(f'Fold {Fold}: roc_auc_score= {roc_auc_score_:.5f}')\n",
    "\n",
    "    val_scores.append(roc_auc_score_)\n",
    "\n",
    "    test_preds_model.append(model.predict_proba(test)[:, 1])\n",
    "\n",
    "test_preds_model = sum(test_preds_model)/len(test_preds_model)\n",
    "\n",
    "print(f'mean validation roc_auc_score = {np.mean(val_scores):.5f}')\n",
    "print(f'std validation roc_auc_score = {np.std(val_scores):.5f}')\n"
   ]
  },
  {
   "cell_type": "code",
   "execution_count": 7,
   "metadata": {},
   "outputs": [
    {
     "data": {
      "text/plain": [
       "<Axes: ylabel='names'>"
      ]
     },
     "execution_count": 7,
     "metadata": {},
     "output_type": "execute_result"
    },
    {
     "data": {
      "image/png": "[encoded data removed]",
      "text/plain": [
       "<Figure size 640x480 with 1 Axes>"
      ]
     },
     "metadata": {},
     "output_type": "display_data"
    }
   ],
   "source": [
    "d = pd.DataFrame({\"names\": model.feature_names_,\"importance\":model.feature_importances_})\n",
    "d.plot(kind='barh',x='names',y='importance')"
   ]
  },
  {
   "cell_type": "code",
   "execution_count": 10,
   "metadata": {},
   "outputs": [
    {
     "data": {
      "text/html": [
       "<div>\n",
       "<style scoped>\n",
       "    .dataframe tbody tr th:only-of-type {\n",
       "        vertical-align: middle;\n",
       "    }\n",
       "\n",
       "    .dataframe tbody tr th {\n",
       "        vertical-align: top;\n",
       "    }\n",
       "\n",
       "    .dataframe thead th {\n",
       "        text-align: right;\n",
       "    }\n",
       "</style>\n",
       "<table border=\"1\" class=\"dataframe\">\n",
       "  <thead>\n",
       "    <tr style=\"text-align: right;\">\n",
       "      <th></th>\n",
       "      <th>names</th>\n",
       "      <th>importance</th>\n",
       "    </tr>\n",
       "  </thead>\n",
       "  <tbody>\n",
       "    <tr>\n",
       "      <th>1</th>\n",
       "      <td>person_income</td>\n",
       "      <td>29.873006</td>\n",
       "    </tr>\n",
       "    <tr>\n",
       "      <th>8</th>\n",
       "      <td>loan_percent_income</td>\n",
       "      <td>21.402642</td>\n",
       "    </tr>\n",
       "    <tr>\n",
       "      <th>2</th>\n",
       "      <td>person_home_ownership</td>\n",
       "      <td>14.690587</td>\n",
       "    </tr>\n",
       "    <tr>\n",
       "      <th>5</th>\n",
       "      <td>loan_grade</td>\n",
       "      <td>13.875938</td>\n",
       "    </tr>\n",
       "    <tr>\n",
       "      <th>4</th>\n",
       "      <td>loan_intent</td>\n",
       "      <td>8.290563</td>\n",
       "    </tr>\n",
       "    <tr>\n",
       "      <th>7</th>\n",
       "      <td>loan_int_rate</td>\n",
       "      <td>5.486004</td>\n",
       "    </tr>\n",
       "    <tr>\n",
       "      <th>3</th>\n",
       "      <td>person_emp_length</td>\n",
       "      <td>2.655817</td>\n",
       "    </tr>\n",
       "    <tr>\n",
       "      <th>0</th>\n",
       "      <td>person_age</td>\n",
       "      <td>1.703581</td>\n",
       "    </tr>\n",
       "    <tr>\n",
       "      <th>6</th>\n",
       "      <td>loan_amnt</td>\n",
       "      <td>1.698145</td>\n",
       "    </tr>\n",
       "    <tr>\n",
       "      <th>10</th>\n",
       "      <td>cb_person_cred_hist_length</td>\n",
       "      <td>0.267394</td>\n",
       "    </tr>\n",
       "    <tr>\n",
       "      <th>9</th>\n",
       "      <td>cb_person_default_on_file</td>\n",
       "      <td>0.056323</td>\n",
       "    </tr>\n",
       "  </tbody>\n",
       "</table>\n",
       "</div>"
      ],
      "text/plain": [
       "                         names  importance\n",
       "1                person_income   29.873006\n",
       "8          loan_percent_income   21.402642\n",
       "2        person_home_ownership   14.690587\n",
       "5                   loan_grade   13.875938\n",
       "4                  loan_intent    8.290563\n",
       "7                loan_int_rate    5.486004\n",
       "3            person_emp_length    2.655817\n",
       "0                   person_age    1.703581\n",
       "6                    loan_amnt    1.698145\n",
       "10  cb_person_cred_hist_length    0.267394\n",
       "9    cb_person_default_on_file    0.056323"
      ]
     },
     "execution_count": 10,
     "metadata": {},
     "output_type": "execute_result"
    }
   ],
   "source": [
    "# d[d['importance'] > 3].names.values\n",
    "d.sort_values(by='importance',ascending=False)"
   ]
  },
  {
   "cell_type": "code",
   "execution_count": 57,
   "metadata": {},
   "outputs": [
    {
     "data": {
      "application/vnd.plotly.v1+json": {
       "config": {
        "plotlyServerURL": "https://plot.ly"
       },
       "data": [
        {
         "cliponaxis": false,
         "hovertemplate": [
          "iterations (IntDistribution): 0.004116717317726847<extra></extra>",
          "random_strength (FloatDistribution): 0.009520077660456754<extra></extra>",
          "bagging_temperature (FloatDistribution): 0.02230213638118195<extra></extra>",
          "scale_pos_weight (FloatDistribution): 0.024234142242714838<extra></extra>",
          "l2_leaf_reg (FloatDistribution): 0.02629374320766676<extra></extra>",
          "learning_rate (FloatDistribution): 0.10749998388712405<extra></extra>",
          "border_count (IntDistribution): 0.2485134036653239<extra></extra>",
          "depth (IntDistribution): 0.557519795637805<extra></extra>"
         ],
         "name": "Objective Value",
         "orientation": "h",
         "text": [
          "<0.01",
          "<0.01",
          "0.02",
          "0.02",
          "0.03",
          "0.11",
          "0.25",
          "0.56"
         ],
         "textposition": "outside",
         "type": "bar",
         "x": [
          0.004116717317726847,
          0.009520077660456754,
          0.02230213638118195,
          0.024234142242714838,
          0.02629374320766676,
          0.10749998388712405,
          0.2485134036653239,
          0.557519795637805
         ],
         "y": [
          "iterations",
          "random_strength",
          "bagging_temperature",
          "scale_pos_weight",
          "l2_leaf_reg",
          "learning_rate",
          "border_count",
          "depth"
         ]
        }
       ],
       "layout": {
        "template": {
         "data": {
          "bar": [
           {
            "error_x": {
             "color": "#2a3f5f"
            },
            "error_y": {
             "color": "#2a3f5f"
            },
            "marker": {
             "line": {
              "color": "#E5ECF6",
              "width": 0.5
             },
             "pattern": {
              "fillmode": "overlay",
              "size": 10,
              "solidity": 0.2
             }
            },
            "type": "bar"
           }
          ],
          "barpolar": [
           {
            "marker": {
             "line": {
              "color": "#E5ECF6",
              "width": 0.5
             },
             "pattern": {
              "fillmode": "overlay",
              "size": 10,
              "solidity": 0.2
             }
            },
            "type": "barpolar"
           }
          ],
          "carpet": [
           {
            "aaxis": {
             "endlinecolor": "#2a3f5f",
             "gridcolor": "white",
             "linecolor": "white",
             "minorgridcolor": "white",
             "startlinecolor": "#2a3f5f"
            },
            "baxis": {
             "endlinecolor": "#2a3f5f",
             "gridcolor": "white",
             "linecolor": "white",
             "minorgridcolor": "white",
             "startlinecolor": "#2a3f5f"
            },
            "type": "carpet"
           }
          ],
          "choropleth": [
           {
            "colorbar": {
             "outlinewidth": 0,
             "ticks": ""
            },
            "type": "choropleth"
           }
          ],
          "contour": [
           {
            "colorbar": {
             "outlinewidth": 0,
             "ticks": ""
            },
            "colorscale": [
             [
              0,
              "#0d0887"
             ],
             [
              0.1111111111111111,
              "#46039f"
             ],
             [
              0.2222222222222222,
              "#7201a8"
             ],
             [
              0.3333333333333333,
              "#9c179e"
             ],
             [
              0.4444444444444444,
              "#bd3786"
             ],
             [
              0.5555555555555556,
              "#d8576b"
             ],
             [
              0.6666666666666666,
              "#ed7953"
             ],
             [
              0.7777777777777778,
              "#fb9f3a"
             ],
             [
              0.8888888888888888,
              "#fdca26"
             ],
             [
              1,
              "#f0f921"
             ]
            ],
            "type": "contour"
           }
          ],
          "contourcarpet": [
           {
            "colorbar": {
             "outlinewidth": 0,
             "ticks": ""
            },
            "type": "contourcarpet"
           }
          ],
          "heatmap": [
           {
            "colorbar": {
             "outlinewidth": 0,
             "ticks": ""
            },
            "colorscale": [
             [
              0,
              "#0d0887"
             ],
             [
              0.1111111111111111,
              "#46039f"
             ],
             [
              0.2222222222222222,
              "#7201a8"
             ],
             [
              0.3333333333333333,
              "#9c179e"
             ],
             [
              0.4444444444444444,
              "#bd3786"
             ],
             [
              0.5555555555555556,
              "#d8576b"
             ],
             [
              0.6666666666666666,
              "#ed7953"
             ],
             [
              0.7777777777777778,
              "#fb9f3a"
             ],
             [
              0.8888888888888888,
              "#fdca26"
             ],
             [
              1,
              "#f0f921"
             ]
            ],
            "type": "heatmap"
           }
          ],
          "heatmapgl": [
           {
            "colorbar": {
             "outlinewidth": 0,
             "ticks": ""
            },
            "colorscale": [
             [
              0,
              "#0d0887"
             ],
             [
              0.1111111111111111,
              "#46039f"
             ],
             [
              0.2222222222222222,
              "#7201a8"
             ],
             [
              0.3333333333333333,
              "#9c179e"
             ],
             [
              0.4444444444444444,
              "#bd3786"
             ],
             [
              0.5555555555555556,
              "#d8576b"
             ],
             [
              0.6666666666666666,
              "#ed7953"
             ],
             [
              0.7777777777777778,
              "#fb9f3a"
             ],
             [
              0.8888888888888888,
              "#fdca26"
             ],
             [
              1,
              "#f0f921"
             ]
            ],
            "type": "heatmapgl"
           }
          ],
          "histogram": [
           {
            "marker": {
             "pattern": {
              "fillmode": "overlay",
              "size": 10,
              "solidity": 0.2
             }
            },
            "type": "histogram"
           }
          ],
          "histogram2d": [
           {
            "colorbar": {
             "outlinewidth": 0,
             "ticks": ""
            },
            "colorscale": [
             [
              0,
              "#0d0887"
             ],
             [
              0.1111111111111111,
              "#46039f"
             ],
             [
              0.2222222222222222,
              "#7201a8"
             ],
             [
              0.3333333333333333,
              "#9c179e"
             ],
             [
              0.4444444444444444,
              "#bd3786"
             ],
             [
              0.5555555555555556,
              "#d8576b"
             ],
             [
              0.6666666666666666,
              "#ed7953"
             ],
             [
              0.7777777777777778,
              "#fb9f3a"
             ],
             [
              0.8888888888888888,
              "#fdca26"
             ],
             [
              1,
              "#f0f921"
             ]
            ],
            "type": "histogram2d"
           }
          ],
          "histogram2dcontour": [
           {
            "colorbar": {
             "outlinewidth": 0,
             "ticks": ""
            },
            "colorscale": [
             [
              0,
              "#0d0887"
             ],
             [
              0.1111111111111111,
              "#46039f"
             ],
             [
              0.2222222222222222,
              "#7201a8"
             ],
             [
              0.3333333333333333,
              "#9c179e"
             ],
             [
              0.4444444444444444,
              "#bd3786"
             ],
             [
              0.5555555555555556,
              "#d8576b"
             ],
             [
              0.6666666666666666,
              "#ed7953"
             ],
             [
              0.7777777777777778,
              "#fb9f3a"
             ],
             [
              0.8888888888888888,
              "#fdca26"
             ],
             [
              1,
              "#f0f921"
             ]
            ],
            "type": "histogram2dcontour"
           }
          ],
          "mesh3d": [
           {
            "colorbar": {
             "outlinewidth": 0,
             "ticks": ""
            },
            "type": "mesh3d"
           }
          ],
          "parcoords": [
           {
            "line": {
             "colorbar": {
              "outlinewidth": 0,
              "ticks": ""
             }
            },
            "type": "parcoords"
           }
          ],
          "pie": [
           {
            "automargin": true,
            "type": "pie"
           }
          ],
          "scatter": [
           {
            "fillpattern": {
             "fillmode": "overlay",
             "size": 10,
             "solidity": 0.2
            },
            "type": "scatter"
           }
          ],
          "scatter3d": [
           {
            "line": {
             "colorbar": {
              "outlinewidth": 0,
              "ticks": ""
             }
            },
            "marker": {
             "colorbar": {
              "outlinewidth": 0,
              "ticks": ""
             }
            },
            "type": "scatter3d"
           }
          ],
          "scattercarpet": [
           {
            "marker": {
             "colorbar": {
              "outlinewidth": 0,
              "ticks": ""
             }
            },
            "type": "scattercarpet"
           }
          ],
          "scattergeo": [
           {
            "marker": {
             "colorbar": {
              "outlinewidth": 0,
              "ticks": ""
             }
            },
            "type": "scattergeo"
           }
          ],
          "scattergl": [
           {
            "marker": {
             "colorbar": {
              "outlinewidth": 0,
              "ticks": ""
             }
            },
            "type": "scattergl"
           }
          ],
          "scattermapbox": [
           {
            "marker": {
             "colorbar": {
              "outlinewidth": 0,
              "ticks": ""
             }
            },
            "type": "scattermapbox"
           }
          ],
          "scatterpolar": [
           {
            "marker": {
             "colorbar": {
              "outlinewidth": 0,
              "ticks": ""
             }
            },
            "type": "scatterpolar"
           }
          ],
          "scatterpolargl": [
           {
            "marker": {
             "colorbar": {
              "outlinewidth": 0,
              "ticks": ""
             }
            },
            "type": "scatterpolargl"
           }
          ],
          "scatterternary": [
           {
            "marker": {
             "colorbar": {
              "outlinewidth": 0,
              "ticks": ""
             }
            },
            "type": "scatterternary"
           }
          ],
          "surface": [
           {
            "colorbar": {
             "outlinewidth": 0,
             "ticks": ""
            },
            "colorscale": [
             [
              0,
              "#0d0887"
             ],
             [
              0.1111111111111111,
              "#46039f"
             ],
             [
              0.2222222222222222,
              "#7201a8"
             ],
             [
              0.3333333333333333,
              "#9c179e"
             ],
             [
              0.4444444444444444,
              "#bd3786"
             ],
             [
              0.5555555555555556,
              "#d8576b"
             ],
             [
              0.6666666666666666,
              "#ed7953"
             ],
             [
              0.7777777777777778,
              "#fb9f3a"
             ],
             [
              0.8888888888888888,
              "#fdca26"
             ],
             [
              1,
              "#f0f921"
             ]
            ],
            "type": "surface"
           }
          ],
          "table": [
           {
            "cells": {
             "fill": {
              "color": "#EBF0F8"
             },
             "line": {
              "color": "white"
             }
            },
            "header": {
             "fill": {
              "color": "#C8D4E3"
             },
             "line": {
              "color": "white"
             }
            },
            "type": "table"
           }
          ]
         },
         "layout": {
          "annotationdefaults": {
           "arrowcolor": "#2a3f5f",
           "arrowhead": 0,
           "arrowwidth": 1
          },
          "autotypenumbers": "strict",
          "coloraxis": {
           "colorbar": {
            "outlinewidth": 0,
            "ticks": ""
           }
          },
          "colorscale": {
           "diverging": [
            [
             0,
             "#8e0152"
            ],
            [
             0.1,
             "#c51b7d"
            ],
            [
             0.2,
             "#de77ae"
            ],
            [
             0.3,
             "#f1b6da"
            ],
            [
             0.4,
             "#fde0ef"
            ],
            [
             0.5,
             "#f7f7f7"
            ],
            [
             0.6,
             "#e6f5d0"
            ],
            [
             0.7,
             "#b8e186"
            ],
            [
             0.8,
             "#7fbc41"
            ],
            [
             0.9,
             "#4d9221"
            ],
            [
             1,
             "#276419"
            ]
           ],
           "sequential": [
            [
             0,
             "#0d0887"
            ],
            [
             0.1111111111111111,
             "#46039f"
            ],
            [
             0.2222222222222222,
             "#7201a8"
            ],
            [
             0.3333333333333333,
             "#9c179e"
            ],
            [
             0.4444444444444444,
             "#bd3786"
            ],
            [
             0.5555555555555556,
             "#d8576b"
            ],
            [
             0.6666666666666666,
             "#ed7953"
            ],
            [
             0.7777777777777778,
             "#fb9f3a"
            ],
            [
             0.8888888888888888,
             "#fdca26"
            ],
            [
             1,
             "#f0f921"
            ]
           ],
           "sequentialminus": [
            [
             0,
             "#0d0887"
            ],
            [
             0.1111111111111111,
             "#46039f"
            ],
            [
             0.2222222222222222,
             "#7201a8"
            ],
            [
             0.3333333333333333,
             "#9c179e"
            ],
            [
             0.4444444444444444,
             "#bd3786"
            ],
            [
             0.5555555555555556,
             "#d8576b"
            ],
            [
             0.6666666666666666,
             "#ed7953"
            ],
            [
             0.7777777777777778,
             "#fb9f3a"
            ],
            [
             0.8888888888888888,
             "#fdca26"
            ],
            [
             1,
             "#f0f921"
            ]
           ]
          },
          "colorway": [
           "#636efa",
           "#EF553B",
           "#00cc96",
           "#ab63fa",
           "#FFA15A",
           "#19d3f3",
           "#FF6692",
           "#B6E880",
           "#FF97FF",
           "#FECB52"
          ],
          "font": {
           "color": "#2a3f5f"
          },
          "geo": {
           "bgcolor": "white",
           "lakecolor": "white",
           "landcolor": "#E5ECF6",
           "showlakes": true,
           "showland": true,
           "subunitcolor": "white"
          },
          "hoverlabel": {
           "align": "left"
          },
          "hovermode": "closest",
          "mapbox": {
           "style": "light"
          },
          "paper_bgcolor": "white",
          "plot_bgcolor": "#E5ECF6",
          "polar": {
           "angularaxis": {
            "gridcolor": "white",
            "linecolor": "white",
            "ticks": ""
           },
           "bgcolor": "#E5ECF6",
           "radialaxis": {
            "gridcolor": "white",
            "linecolor": "white",
            "ticks": ""
           }
          },
          "scene": {
           "xaxis": {
            "backgroundcolor": "#E5ECF6",
            "gridcolor": "white",
            "gridwidth": 2,
            "linecolor": "white",
            "showbackground": true,
            "ticks": "",
            "zerolinecolor": "white"
           },
           "yaxis": {
            "backgroundcolor": "#E5ECF6",
            "gridcolor": "white",
            "gridwidth": 2,
            "linecolor": "white",
            "showbackground": true,
            "ticks": "",
            "zerolinecolor": "white"
           },
           "zaxis": {
            "backgroundcolor": "#E5ECF6",
            "gridcolor": "white",
            "gridwidth": 2,
            "linecolor": "white",
            "showbackground": true,
            "ticks": "",
            "zerolinecolor": "white"
           }
          },
          "shapedefaults": {
           "line": {
            "color": "#2a3f5f"
           }
          },
          "ternary": {
           "aaxis": {
            "gridcolor": "white",
            "linecolor": "white",
            "ticks": ""
           },
           "baxis": {
            "gridcolor": "white",
            "linecolor": "white",
            "ticks": ""
           },
           "bgcolor": "#E5ECF6",
           "caxis": {
            "gridcolor": "white",
            "linecolor": "white",
            "ticks": ""
           }
          },
          "title": {
           "x": 0.05
          },
          "xaxis": {
           "automargin": true,
           "gridcolor": "white",
           "linecolor": "white",
           "ticks": "",
           "title": {
            "standoff": 15
           },
           "zerolinecolor": "white",
           "zerolinewidth": 2
          },
          "yaxis": {
           "automargin": true,
           "gridcolor": "white",
           "linecolor": "white",
           "ticks": "",
           "title": {
            "standoff": 15
           },
           "zerolinecolor": "white",
           "zerolinewidth": 2
          }
         }
        },
        "title": {
         "text": "Hyperparameter Importances"
        },
        "xaxis": {
         "title": {
          "text": "Hyperparameter Importance"
         }
        },
        "yaxis": {
         "title": {
          "text": "Hyperparameter"
         }
        }
       }
      }
     },
     "metadata": {},
     "output_type": "display_data"
    }
   ],
   "source": [
    "# visualize optuna study\n",
    "import optuna.visualization as ov\n",
    "\n",
    "ov.plot_param_importances(study).show()"
   ]
  },
  {
   "cell_type": "code",
   "execution_count": 47,
   "metadata": {},
   "outputs": [
    {
     "data": {
      "application/vnd.plotly.v1+json": {
       "config": {
        "plotlyServerURL": "https://plot.ly"
       },
       "data": [
        {
         "mode": "markers",
         "name": "Objective Value",
         "type": "scatter",
         "x": [
          0,
          1,
          2,
          3,
          4,
          5,
          6,
          7,
          8,
          9,
          10,
          11,
          12,
          13,
          14,
          15,
          16,
          17,
          18,
          19,
          20,
          21,
          22,
          23,
          24,
          25,
          26,
          27,
          28,
          29,
          30,
          31,
          32,
          33,
          34,
          35,
          36,
          37,
          38,
          39,
          40,
          41,
          42,
          43,
          44,
          45,
          46,
          47,
          48,
          49
         ],
         "y": [
          0.9162782164309143,
          0.936825202791332,
          0.9289821487038132,
          0.9325352188231281,
          0.9248452866062152,
          0.9279000147017592,
          0.9218022496045145,
          0.9385652099238878,
          0.9375927815254914,
          0.9342554271749329,
          0.9419864011661755,
          0.9411602119161696,
          0.9406866336964467,
          0.9387984305536641,
          0.9345815310093322,
          0.930984184322918,
          0.9352644218608294,
          0.9269151214208952,
          0.9318673999166641,
          0.9377039936174358,
          0.9263391881881887,
          0.9407052023763849,
          0.938742626285549,
          0.9326979314353799,
          0.9395482598190741,
          0.9392304277064251,
          0.9342556843019557,
          0.9359665086409569,
          0.9403207120893873,
          0.9270874579990713,
          0.9410799754447737,
          0.9413708490249674,
          0.9423928185137753,
          0.9417609810191117,
          0.9407459000306545,
          0.9429005657368462,
          0.944517201654652,
          0.9425267030457811,
          0.9428563642855061,
          0.94359748654297,
          0.9418167602486406,
          0.9435088322914026,
          0.9425276885388646,
          0.9416048034779322,
          0.9435882912825875,
          0.9428447945325055,
          0.9431832709597107,
          0.9437080479526734,
          0.9437701995024623,
          0.9408590339946153
         ]
        },
        {
         "mode": "lines",
         "name": "Best Value",
         "type": "scatter",
         "x": [
          0,
          1,
          2,
          3,
          4,
          5,
          6,
          7,
          8,
          9,
          10,
          11,
          12,
          13,
          14,
          15,
          16,
          17,
          18,
          19,
          20,
          21,
          22,
          23,
          24,
          25,
          26,
          27,
          28,
          29,
          30,
          31,
          32,
          33,
          34,
          35,
          36,
          37,
          38,
          39,
          40,
          41,
          42,
          43,
          44,
          45,
          46,
          47,
          48,
          49
         ],
         "y": [
          0.9162782164309143,
          0.936825202791332,
          0.936825202791332,
          0.936825202791332,
          0.936825202791332,
          0.936825202791332,
          0.936825202791332,
          0.9385652099238878,
          0.9385652099238878,
          0.9385652099238878,
          0.9419864011661755,
          0.9419864011661755,
          0.9419864011661755,
          0.9419864011661755,
          0.9419864011661755,
          0.9419864011661755,
          0.9419864011661755,
          0.9419864011661755,
          0.9419864011661755,
          0.9419864011661755,
          0.9419864011661755,
          0.9419864011661755,
          0.9419864011661755,
          0.9419864011661755,
          0.9419864011661755,
          0.9419864011661755,
          0.9419864011661755,
          0.9419864011661755,
          0.9419864011661755,
          0.9419864011661755,
          0.9419864011661755,
          0.9419864011661755,
          0.9423928185137753,
          0.9423928185137753,
          0.9423928185137753,
          0.9429005657368462,
          0.944517201654652,
          0.944517201654652,
          0.944517201654652,
          0.944517201654652,
          0.944517201654652,
          0.944517201654652,
          0.944517201654652,
          0.944517201654652,
          0.944517201654652,
          0.944517201654652,
          0.944517201654652,
          0.944517201654652,
          0.944517201654652,
          0.944517201654652
         ]
        },
        {
         "marker": {
          "color": "#cccccc"
         },
         "mode": "markers",
         "name": "Infeasible Trial",
         "showlegend": false,
         "type": "scatter",
         "x": [],
         "y": []
        }
       ],
       "layout": {
        "template": {
         "data": {
          "bar": [
           {
            "error_x": {
             "color": "#2a3f5f"
            },
            "error_y": {
             "color": "#2a3f5f"
            },
            "marker": {
             "line": {
              "color": "#E5ECF6",
              "width": 0.5
             },
             "pattern": {
              "fillmode": "overlay",
              "size": 10,
              "solidity": 0.2
             }
            },
            "type": "bar"
           }
          ],
          "barpolar": [
           {
            "marker": {
             "line": {
              "color": "#E5ECF6",
              "width": 0.5
             },
             "pattern": {
              "fillmode": "overlay",
              "size": 10,
              "solidity": 0.2
             }
            },
            "type": "barpolar"
           }
          ],
          "carpet": [
           {
            "aaxis": {
             "endlinecolor": "#2a3f5f",
             "gridcolor": "white",
             "linecolor": "white",
             "minorgridcolor": "white",
             "startlinecolor": "#2a3f5f"
            },
            "baxis": {
             "endlinecolor": "#2a3f5f",
             "gridcolor": "white",
             "linecolor": "white",
             "minorgridcolor": "white",
             "startlinecolor": "#2a3f5f"
            },
            "type": "carpet"
           }
          ],
          "choropleth": [
           {
            "colorbar": {
             "outlinewidth": 0,
             "ticks": ""
            },
            "type": "choropleth"
           }
          ],
          "contour": [
           {
            "colorbar": {
             "outlinewidth": 0,
             "ticks": ""
            },
            "colorscale": [
             [
              0,
              "#0d0887"
             ],
             [
              0.1111111111111111,
              "#46039f"
             ],
             [
              0.2222222222222222,
              "#7201a8"
             ],
             [
              0.3333333333333333,
              "#9c179e"
             ],
             [
              0.4444444444444444,
              "#bd3786"
             ],
             [
              0.5555555555555556,
              "#d8576b"
             ],
             [
              0.6666666666666666,
              "#ed7953"
             ],
             [
              0.7777777777777778,
              "#fb9f3a"
             ],
             [
              0.8888888888888888,
              "#fdca26"
             ],
             [
              1,
              "#f0f921"
             ]
            ],
            "type": "contour"
           }
          ],
          "contourcarpet": [
           {
            "colorbar": {
             "outlinewidth": 0,
             "ticks": ""
            },
            "type": "contourcarpet"
           }
          ],
          "heatmap": [
           {
            "colorbar": {
             "outlinewidth": 0,
             "ticks": ""
            },
            "colorscale": [
             [
              0,
              "#0d0887"
             ],
             [
              0.1111111111111111,
              "#46039f"
             ],
             [
              0.2222222222222222,
              "#7201a8"
             ],
             [
              0.3333333333333333,
              "#9c179e"
             ],
             [
              0.4444444444444444,
              "#bd3786"
             ],
             [
              0.5555555555555556,
              "#d8576b"
             ],
             [
              0.6666666666666666,
              "#ed7953"
             ],
             [
              0.7777777777777778,
              "#fb9f3a"
             ],
             [
              0.8888888888888888,
              "#fdca26"
             ],
             [
              1,
              "#f0f921"
             ]
            ],
            "type": "heatmap"
           }
          ],
          "heatmapgl": [
           {
            "colorbar": {
             "outlinewidth": 0,
             "ticks": ""
            },
            "colorscale": [
             [
              0,
              "#0d0887"
             ],
             [
              0.1111111111111111,
              "#46039f"
             ],
             [
              0.2222222222222222,
              "#7201a8"
             ],
             [
              0.3333333333333333,
              "#9c179e"
             ],
             [
              0.4444444444444444,
              "#bd3786"
             ],
             [
              0.5555555555555556,
              "#d8576b"
             ],
             [
              0.6666666666666666,
              "#ed7953"
             ],
             [
              0.7777777777777778,
              "#fb9f3a"
             ],
             [
              0.8888888888888888,
              "#fdca26"
             ],
             [
              1,
              "#f0f921"
             ]
            ],
            "type": "heatmapgl"
           }
          ],
          "histogram": [
           {
            "marker": {
             "pattern": {
              "fillmode": "overlay",
              "size": 10,
              "solidity": 0.2
             }
            },
            "type": "histogram"
           }
          ],
          "histogram2d": [
           {
            "colorbar": {
             "outlinewidth": 0,
             "ticks": ""
            },
            "colorscale": [
             [
              0,
              "#0d0887"
             ],
             [
              0.1111111111111111,
              "#46039f"
             ],
             [
              0.2222222222222222,
              "#7201a8"
             ],
             [
              0.3333333333333333,
              "#9c179e"
             ],
             [
              0.4444444444444444,
              "#bd3786"
             ],
             [
              0.5555555555555556,
              "#d8576b"
             ],
             [
              0.6666666666666666,
              "#ed7953"
             ],
             [
              0.7777777777777778,
              "#fb9f3a"
             ],
             [
              0.8888888888888888,
              "#fdca26"
             ],
             [
              1,
              "#f0f921"
             ]
            ],
            "type": "histogram2d"
           }
          ],
          "histogram2dcontour": [
           {
            "colorbar": {
             "outlinewidth": 0,
             "ticks": ""
            },
            "colorscale": [
             [
              0,
              "#0d0887"
             ],
             [
              0.1111111111111111,
              "#46039f"
             ],
             [
              0.2222222222222222,
              "#7201a8"
             ],
             [
              0.3333333333333333,
              "#9c179e"
             ],
             [
              0.4444444444444444,
              "#bd3786"
             ],
             [
              0.5555555555555556,
              "#d8576b"
             ],
             [
              0.6666666666666666,
              "#ed7953"
             ],
             [
              0.7777777777777778,
              "#fb9f3a"
             ],
             [
              0.8888888888888888,
              "#fdca26"
             ],
             [
              1,
              "#f0f921"
             ]
            ],
            "type": "histogram2dcontour"
           }
          ],
          "mesh3d": [
           {
            "colorbar": {
             "outlinewidth": 0,
             "ticks": ""
            },
            "type": "mesh3d"
           }
          ],
          "parcoords": [
           {
            "line": {
             "colorbar": {
              "outlinewidth": 0,
              "ticks": ""
             }
            },
            "type": "parcoords"
           }
          ],
          "pie": [
           {
            "automargin": true,
            "type": "pie"
           }
          ],
          "scatter": [
           {
            "fillpattern": {
             "fillmode": "overlay",
             "size": 10,
             "solidity": 0.2
            },
            "type": "scatter"
           }
          ],
          "scatter3d": [
           {
            "line": {
             "colorbar": {
              "outlinewidth": 0,
              "ticks": ""
             }
            },
            "marker": {
             "colorbar": {
              "outlinewidth": 0,
              "ticks": ""
             }
            },
            "type": "scatter3d"
           }
          ],
          "scattercarpet": [
           {
            "marker": {
             "colorbar": {
              "outlinewidth": 0,
              "ticks": ""
             }
            },
            "type": "scattercarpet"
           }
          ],
          "scattergeo": [
           {
            "marker": {
             "colorbar": {
              "outlinewidth": 0,
              "ticks": ""
             }
            },
            "type": "scattergeo"
           }
          ],
          "scattergl": [
           {
            "marker": {
             "colorbar": {
              "outlinewidth": 0,
              "ticks": ""
             }
            },
            "type": "scattergl"
           }
          ],
          "scattermapbox": [
           {
            "marker": {
             "colorbar": {
              "outlinewidth": 0,
              "ticks": ""
             }
            },
            "type": "scattermapbox"
           }
          ],
          "scatterpolar": [
           {
            "marker": {
             "colorbar": {
              "outlinewidth": 0,
              "ticks": ""
             }
            },
            "type": "scatterpolar"
           }
          ],
          "scatterpolargl": [
           {
            "marker": {
             "colorbar": {
              "outlinewidth": 0,
              "ticks": ""
             }
            },
            "type": "scatterpolargl"
           }
          ],
          "scatterternary": [
           {
            "marker": {
             "colorbar": {
              "outlinewidth": 0,
              "ticks": ""
             }
            },
            "type": "scatterternary"
           }
          ],
          "surface": [
           {
            "colorbar": {
             "outlinewidth": 0,
             "ticks": ""
            },
            "colorscale": [
             [
              0,
              "#0d0887"
             ],
             [
              0.1111111111111111,
              "#46039f"
             ],
             [
              0.2222222222222222,
              "#7201a8"
             ],
             [
              0.3333333333333333,
              "#9c179e"
             ],
             [
              0.4444444444444444,
              "#bd3786"
             ],
             [
              0.5555555555555556,
              "#d8576b"
             ],
             [
              0.6666666666666666,
              "#ed7953"
             ],
             [
              0.7777777777777778,
              "#fb9f3a"
             ],
             [
              0.8888888888888888,
              "#fdca26"
             ],
             [
              1,
              "#f0f921"
             ]
            ],
            "type": "surface"
           }
          ],
          "table": [
           {
            "cells": {
             "fill": {
              "color": "#EBF0F8"
             },
             "line": {
              "color": "white"
             }
            },
            "header": {
             "fill": {
              "color": "#C8D4E3"
             },
             "line": {
              "color": "white"
             }
            },
            "type": "table"
           }
          ]
         },
         "layout": {
          "annotationdefaults": {
           "arrowcolor": "#2a3f5f",
           "arrowhead": 0,
           "arrowwidth": 1
          },
          "autotypenumbers": "strict",
          "coloraxis": {
           "colorbar": {
            "outlinewidth": 0,
            "ticks": ""
           }
          },
          "colorscale": {
           "diverging": [
            [
             0,
             "#8e0152"
            ],
            [
             0.1,
             "#c51b7d"
            ],
            [
             0.2,
             "#de77ae"
            ],
            [
             0.3,
             "#f1b6da"
            ],
            [
             0.4,
             "#fde0ef"
            ],
            [
             0.5,
             "#f7f7f7"
            ],
            [
             0.6,
             "#e6f5d0"
            ],
            [
             0.7,
             "#b8e186"
            ],
            [
             0.8,
             "#7fbc41"
            ],
            [
             0.9,
             "#4d9221"
            ],
            [
             1,
             "#276419"
            ]
           ],
           "sequential": [
            [
             0,
             "#0d0887"
            ],
            [
             0.1111111111111111,
             "#46039f"
            ],
            [
             0.2222222222222222,
             "#7201a8"
            ],
            [
             0.3333333333333333,
             "#9c179e"
            ],
            [
             0.4444444444444444,
             "#bd3786"
            ],
            [
             0.5555555555555556,
             "#d8576b"
            ],
            [
             0.6666666666666666,
             "#ed7953"
            ],
            [
             0.7777777777777778,
             "#fb9f3a"
            ],
            [
             0.8888888888888888,
             "#fdca26"
            ],
            [
             1,
             "#f0f921"
            ]
           ],
           "sequentialminus": [
            [
             0,
             "#0d0887"
            ],
            [
             0.1111111111111111,
             "#46039f"
            ],
            [
             0.2222222222222222,
             "#7201a8"
            ],
            [
             0.3333333333333333,
             "#9c179e"
            ],
            [
             0.4444444444444444,
             "#bd3786"
            ],
            [
             0.5555555555555556,
             "#d8576b"
            ],
            [
             0.6666666666666666,
             "#ed7953"
            ],
            [
             0.7777777777777778,
             "#fb9f3a"
            ],
            [
             0.8888888888888888,
             "#fdca26"
            ],
            [
             1,
             "#f0f921"
            ]
           ]
          },
          "colorway": [
           "#636efa",
           "#EF553B",
           "#00cc96",
           "#ab63fa",
           "#FFA15A",
           "#19d3f3",
           "#FF6692",
           "#B6E880",
           "#FF97FF",
           "#FECB52"
          ],
          "font": {
           "color": "#2a3f5f"
          },
          "geo": {
           "bgcolor": "white",
           "lakecolor": "white",
           "landcolor": "#E5ECF6",
           "showlakes": true,
           "showland": true,
           "subunitcolor": "white"
          },
          "hoverlabel": {
           "align": "left"
          },
          "hovermode": "closest",
          "mapbox": {
           "style": "light"
          },
          "paper_bgcolor": "white",
          "plot_bgcolor": "#E5ECF6",
          "polar": {
           "angularaxis": {
            "gridcolor": "white",
            "linecolor": "white",
            "ticks": ""
           },
           "bgcolor": "#E5ECF6",
           "radialaxis": {
            "gridcolor": "white",
            "linecolor": "white",
            "ticks": ""
           }
          },
          "scene": {
           "xaxis": {
            "backgroundcolor": "#E5ECF6",
            "gridcolor": "white",
            "gridwidth": 2,
            "linecolor": "white",
            "showbackground": true,
            "ticks": "",
            "zerolinecolor": "white"
           },
           "yaxis": {
            "backgroundcolor": "#E5ECF6",
            "gridcolor": "white",
            "gridwidth": 2,
            "linecolor": "white",
            "showbackground": true,
            "ticks": "",
            "zerolinecolor": "white"
           },
           "zaxis": {
            "backgroundcolor": "#E5ECF6",
            "gridcolor": "white",
            "gridwidth": 2,
            "linecolor": "white",
            "showbackground": true,
            "ticks": "",
            "zerolinecolor": "white"
           }
          },
          "shapedefaults": {
           "line": {
            "color": "#2a3f5f"
           }
          },
          "ternary": {
           "aaxis": {
            "gridcolor": "white",
            "linecolor": "white",
            "ticks": ""
           },
           "baxis": {
            "gridcolor": "white",
            "linecolor": "white",
            "ticks": ""
           },
           "bgcolor": "#E5ECF6",
           "caxis": {
            "gridcolor": "white",
            "linecolor": "white",
            "ticks": ""
           }
          },
          "title": {
           "x": 0.05
          },
          "xaxis": {
           "automargin": true,
           "gridcolor": "white",
           "linecolor": "white",
           "ticks": "",
           "title": {
            "standoff": 15
           },
           "zerolinecolor": "white",
           "zerolinewidth": 2
          },
          "yaxis": {
           "automargin": true,
           "gridcolor": "white",
           "linecolor": "white",
           "ticks": "",
           "title": {
            "standoff": 15
           },
           "zerolinecolor": "white",
           "zerolinewidth": 2
          }
         }
        },
        "title": {
         "text": "Optimization History Plot"
        },
        "xaxis": {
         "title": {
          "text": "Trial"
         }
        },
        "yaxis": {
         "title": {
          "text": "Objective Value"
         }
        }
       }
      }
     },
     "metadata": {},
     "output_type": "display_data"
    }
   ],
   "source": [
    "ov.plot_optimization_history(study).show()"
   ]
  },
  {
   "cell_type": "code",
   "execution_count": 69,
   "metadata": {},
   "outputs": [
    {
     "data": {
      "application/vnd.plotly.v1+json": {
       "config": {
        "plotlyServerURL": "https://plot.ly"
       },
       "data": [
        {
         "marker": {
          "color": [
           0,
           1,
           2,
           3,
           4,
           5,
           6,
           7,
           8,
           9,
           10,
           11,
           12,
           13,
           14,
           15,
           16,
           17,
           18,
           19,
           20,
           21,
           22,
           23,
           24,
           25,
           26,
           27,
           28,
           29,
           30,
           31,
           32,
           33,
           34,
           35,
           36,
           37,
           38,
           39,
           40,
           41,
           42,
           43,
           44,
           45,
           46,
           47,
           48,
           49
          ],
          "colorbar": {
           "title": {
            "text": "Trial"
           },
           "x": 1,
           "xpad": 40
          },
          "colorscale": [
           [
            0,
            "rgb(247,251,255)"
           ],
           [
            0.125,
            "rgb(222,235,247)"
           ],
           [
            0.25,
            "rgb(198,219,239)"
           ],
           [
            0.375,
            "rgb(158,202,225)"
           ],
           [
            0.5,
            "rgb(107,174,214)"
           ],
           [
            0.625,
            "rgb(66,146,198)"
           ],
           [
            0.75,
            "rgb(33,113,181)"
           ],
           [
            0.875,
            "rgb(8,81,156)"
           ],
           [
            1,
            "rgb(8,48,107)"
           ]
          ],
          "line": {
           "color": "Grey",
           "width": 0.5
          },
          "showscale": true
         },
         "mode": "markers",
         "name": "Feasible Trial",
         "showlegend": false,
         "type": "scatter",
         "x": [
          1.8711261410956084,
          1.39774044291482,
          1.076592622483413,
          1.259916131019349,
          1.8919219647127754,
          1.0079010311716816,
          1.600930797142666,
          1.0577449618291968,
          1.9909325614750815,
          1.7896345599196997,
          1.6899795830877036,
          1.4730759242391591,
          1.2972932932745647,
          1.1762132941452652,
          1.5804723899812476,
          1.7624710970568755,
          1.3944486583404065,
          1.9684821748887695,
          1.9660924858661055,
          1.8445906307223516,
          1.6886534255391885,
          1.9008136963581863,
          1.9884003867996403,
          1.7613276629474108,
          1.7623096544174823,
          1.8780587650686484,
          1.6892210643653012,
          1.6698932621180465,
          1.534923490935287,
          1.8163559555416737,
          1.6494568673503438,
          1.7829849363169146,
          1.788826410288161,
          1.7304190061646443,
          1.8317481156948332,
          1.5843478792214092,
          1.902559445706582,
          1.7276059050382988,
          1.6339018595634751,
          1.8371912383216888,
          1.4903674228320452,
          1.8214407526464864,
          1.9265553461740221,
          1.7337024911997378,
          1.7097736199358442,
          1.8224908781551403,
          1.6150272967832746,
          1.5322281364120012,
          1.801783032543311,
          1.4362888754080705
         ],
         "xaxis": "x",
         "y": [
          0.9444188221592883,
          0.9434513979471056,
          0.939192024613901,
          0.943558919415604,
          0.9421132479293343,
          0.9422059391714609,
          0.9424396021495983,
          0.9439478331862136,
          0.9423950508000627,
          0.9418273101607534,
          0.9431465505886015,
          0.9437531899560442,
          0.9434529853292873,
          0.9409516719494939,
          0.9409299041086211,
          0.9417451315938673,
          0.9406358737404853,
          0.9441452197466408,
          0.9439211645235478,
          0.9428048255653038,
          0.9433565225698196,
          0.9431328769523212,
          0.9426294129325766,
          0.9447339632659052,
          0.9432217703544902,
          0.9426411123726149,
          0.9453183661214973,
          0.9441372465618834,
          0.9426622985478632,
          0.9445945622196849,
          0.9441193314532539,
          0.9450242577485343,
          0.9445590989140205,
          0.9434774435341772,
          0.9448869830561201,
          0.9445926708433828,
          0.9445941189083013,
          0.9439859512240605,
          0.9440683634844205,
          0.9428175602545913,
          0.9424307095993063,
          0.9457814525314684,
          0.9434957830147467,
          0.9454141127131899,
          0.9431717856316872,
          0.9447253670055531,
          0.9444110524932977,
          0.9434133299864319,
          0.9440657472731404,
          0.9445418784656624
         ],
         "yaxis": "y"
        },
        {
         "marker": {
          "color": [
           0,
           1,
           2,
           3,
           4,
           5,
           6,
           7,
           8,
           9,
           10,
           11,
           12,
           13,
           14,
           15,
           16,
           17,
           18,
           19,
           20,
           21,
           22,
           23,
           24,
           25,
           26,
           27,
           28,
           29,
           30,
           31,
           32,
           33,
           34,
           35,
           36,
           37,
           38,
           39,
           40,
           41,
           42,
           43,
           44,
           45,
           46,
           47,
           48,
           49
          ],
          "colorbar": {
           "title": {
            "text": "Trial"
           },
           "x": 1,
           "xpad": 40
          },
          "colorscale": [
           [
            0,
            "rgb(247,251,255)"
           ],
           [
            0.125,
            "rgb(222,235,247)"
           ],
           [
            0.25,
            "rgb(198,219,239)"
           ],
           [
            0.375,
            "rgb(158,202,225)"
           ],
           [
            0.5,
            "rgb(107,174,214)"
           ],
           [
            0.625,
            "rgb(66,146,198)"
           ],
           [
            0.75,
            "rgb(33,113,181)"
           ],
           [
            0.875,
            "rgb(8,81,156)"
           ],
           [
            1,
            "rgb(8,48,107)"
           ]
          ],
          "line": {
           "color": "Grey",
           "width": 0.5
          },
          "showscale": false
         },
         "mode": "markers",
         "name": "Feasible Trial",
         "showlegend": false,
         "type": "scatter",
         "x": [
          250,
          238,
          266,
          298,
          308,
          343,
          224,
          318,
          336,
          221,
          265,
          312,
          249,
          286,
          325,
          272,
          250,
          293,
          286,
          242,
          294,
          323,
          304,
          320,
          211,
          277,
          336,
          337,
          348,
          335,
          330,
          350,
          347,
          332,
          350,
          343,
          349,
          317,
          341,
          327,
          320,
          338,
          350,
          341,
          339,
          331,
          311,
          342,
          337,
          343
         ],
         "xaxis": "x2",
         "y": [
          0.9444188221592883,
          0.9434513979471056,
          0.939192024613901,
          0.943558919415604,
          0.9421132479293343,
          0.9422059391714609,
          0.9424396021495983,
          0.9439478331862136,
          0.9423950508000627,
          0.9418273101607534,
          0.9431465505886015,
          0.9437531899560442,
          0.9434529853292873,
          0.9409516719494939,
          0.9409299041086211,
          0.9417451315938673,
          0.9406358737404853,
          0.9441452197466408,
          0.9439211645235478,
          0.9428048255653038,
          0.9433565225698196,
          0.9431328769523212,
          0.9426294129325766,
          0.9447339632659052,
          0.9432217703544902,
          0.9426411123726149,
          0.9453183661214973,
          0.9441372465618834,
          0.9426622985478632,
          0.9445945622196849,
          0.9441193314532539,
          0.9450242577485343,
          0.9445590989140205,
          0.9434774435341772,
          0.9448869830561201,
          0.9445926708433828,
          0.9445941189083013,
          0.9439859512240605,
          0.9440683634844205,
          0.9428175602545913,
          0.9424307095993063,
          0.9457814525314684,
          0.9434957830147467,
          0.9454141127131899,
          0.9431717856316872,
          0.9447253670055531,
          0.9444110524932977,
          0.9434133299864319,
          0.9440657472731404,
          0.9445418784656624
         ],
         "yaxis": "y2"
        },
        {
         "marker": {
          "color": [
           0,
           1,
           2,
           3,
           4,
           5,
           6,
           7,
           8,
           9,
           10,
           11,
           12,
           13,
           14,
           15,
           16,
           17,
           18,
           19,
           20,
           21,
           22,
           23,
           24,
           25,
           26,
           27,
           28,
           29,
           30,
           31,
           32,
           33,
           34,
           35,
           36,
           37,
           38,
           39,
           40,
           41,
           42,
           43,
           44,
           45,
           46,
           47,
           48,
           49
          ],
          "colorbar": {
           "title": {
            "text": "Trial"
           },
           "x": 1,
           "xpad": 40
          },
          "colorscale": [
           [
            0,
            "rgb(247,251,255)"
           ],
           [
            0.125,
            "rgb(222,235,247)"
           ],
           [
            0.25,
            "rgb(198,219,239)"
           ],
           [
            0.375,
            "rgb(158,202,225)"
           ],
           [
            0.5,
            "rgb(107,174,214)"
           ],
           [
            0.625,
            "rgb(66,146,198)"
           ],
           [
            0.75,
            "rgb(33,113,181)"
           ],
           [
            0.875,
            "rgb(8,81,156)"
           ],
           [
            1,
            "rgb(8,48,107)"
           ]
          ],
          "line": {
           "color": "Grey",
           "width": 0.5
          },
          "showscale": false
         },
         "mode": "markers",
         "name": "Feasible Trial",
         "showlegend": false,
         "type": "scatter",
         "x": [
          3,
          3,
          6,
          4,
          4,
          4,
          2,
          4,
          5,
          5,
          2,
          3,
          3,
          5,
          3,
          2,
          6,
          3,
          3,
          2,
          3,
          4,
          4,
          3,
          3,
          2,
          3,
          3,
          2,
          3,
          4,
          3,
          3,
          2,
          3,
          3,
          4,
          3,
          4,
          2,
          5,
          3,
          3,
          3,
          4,
          3,
          3,
          2,
          4,
          3
         ],
         "xaxis": "x3",
         "y": [
          0.9444188221592883,
          0.9434513979471056,
          0.939192024613901,
          0.943558919415604,
          0.9421132479293343,
          0.9422059391714609,
          0.9424396021495983,
          0.9439478331862136,
          0.9423950508000627,
          0.9418273101607534,
          0.9431465505886015,
          0.9437531899560442,
          0.9434529853292873,
          0.9409516719494939,
          0.9409299041086211,
          0.9417451315938673,
          0.9406358737404853,
          0.9441452197466408,
          0.9439211645235478,
          0.9428048255653038,
          0.9433565225698196,
          0.9431328769523212,
          0.9426294129325766,
          0.9447339632659052,
          0.9432217703544902,
          0.9426411123726149,
          0.9453183661214973,
          0.9441372465618834,
          0.9426622985478632,
          0.9445945622196849,
          0.9441193314532539,
          0.9450242577485343,
          0.9445590989140205,
          0.9434774435341772,
          0.9448869830561201,
          0.9445926708433828,
          0.9445941189083013,
          0.9439859512240605,
          0.9440683634844205,
          0.9428175602545913,
          0.9424307095993063,
          0.9457814525314684,
          0.9434957830147467,
          0.9454141127131899,
          0.9431717856316872,
          0.9447253670055531,
          0.9444110524932977,
          0.9434133299864319,
          0.9440657472731404,
          0.9445418784656624
         ],
         "yaxis": "y3"
        },
        {
         "marker": {
          "color": [
           0,
           1,
           2,
           3,
           4,
           5,
           6,
           7,
           8,
           9,
           10,
           11,
           12,
           13,
           14,
           15,
           16,
           17,
           18,
           19,
           20,
           21,
           22,
           23,
           24,
           25,
           26,
           27,
           28,
           29,
           30,
           31,
           32,
           33,
           34,
           35,
           36,
           37,
           38,
           39,
           40,
           41,
           42,
           43,
           44,
           45,
           46,
           47,
           48,
           49
          ],
          "colorbar": {
           "title": {
            "text": "Trial"
           },
           "x": 1,
           "xpad": 40
          },
          "colorscale": [
           [
            0,
            "rgb(247,251,255)"
           ],
           [
            0.125,
            "rgb(222,235,247)"
           ],
           [
            0.25,
            "rgb(198,219,239)"
           ],
           [
            0.375,
            "rgb(158,202,225)"
           ],
           [
            0.5,
            "rgb(107,174,214)"
           ],
           [
            0.625,
            "rgb(66,146,198)"
           ],
           [
            0.75,
            "rgb(33,113,181)"
           ],
           [
            0.875,
            "rgb(8,81,156)"
           ],
           [
            1,
            "rgb(8,48,107)"
           ]
          ],
          "line": {
           "color": "Grey",
           "width": 0.5
          },
          "showscale": false
         },
         "mode": "markers",
         "name": "Feasible Trial",
         "showlegend": false,
         "type": "scatter",
         "x": [
          1171,
          1012,
          933,
          895,
          1108,
          834,
          1458,
          875,
          1161,
          1159,
          1363,
          1288,
          1049,
          1244,
          803,
          969,
          1239,
          1076,
          1074,
          1350,
          1208,
          877,
          1006,
          1108,
          1117,
          1194,
          1067,
          1293,
          1037,
          1116,
          962,
          1130,
          1119,
          1119,
          1004,
          999,
          928,
          1061,
          1021,
          928,
          979,
          1096,
          1084,
          1147,
          1149,
          1179,
          1141,
          1219,
          1500,
          1054
         ],
         "xaxis": "x4",
         "y": [
          0.9444188221592883,
          0.9434513979471056,
          0.939192024613901,
          0.943558919415604,
          0.9421132479293343,
          0.9422059391714609,
          0.9424396021495983,
          0.9439478331862136,
          0.9423950508000627,
          0.9418273101607534,
          0.9431465505886015,
          0.9437531899560442,
          0.9434529853292873,
          0.9409516719494939,
          0.9409299041086211,
          0.9417451315938673,
          0.9406358737404853,
          0.9441452197466408,
          0.9439211645235478,
          0.9428048255653038,
          0.9433565225698196,
          0.9431328769523212,
          0.9426294129325766,
          0.9447339632659052,
          0.9432217703544902,
          0.9426411123726149,
          0.9453183661214973,
          0.9441372465618834,
          0.9426622985478632,
          0.9445945622196849,
          0.9441193314532539,
          0.9450242577485343,
          0.9445590989140205,
          0.9434774435341772,
          0.9448869830561201,
          0.9445926708433828,
          0.9445941189083013,
          0.9439859512240605,
          0.9440683634844205,
          0.9428175602545913,
          0.9424307095993063,
          0.9457814525314684,
          0.9434957830147467,
          0.9454141127131899,
          0.9431717856316872,
          0.9447253670055531,
          0.9444110524932977,
          0.9434133299864319,
          0.9440657472731404,
          0.9445418784656624
         ],
         "yaxis": "y4"
        },
        {
         "marker": {
          "color": [
           0,
           1,
           2,
           3,
           4,
           5,
           6,
           7,
           8,
           9,
           10,
           11,
           12,
           13,
           14,
           15,
           16,
           17,
           18,
           19,
           20,
           21,
           22,
           23,
           24,
           25,
           26,
           27,
           28,
           29,
           30,
           31,
           32,
           33,
           34,
           35,
           36,
           37,
           38,
           39,
           40,
           41,
           42,
           43,
           44,
           45,
           46,
           47,
           48,
           49
          ],
          "colorbar": {
           "title": {
            "text": "Trial"
           },
           "x": 1,
           "xpad": 40
          },
          "colorscale": [
           [
            0,
            "rgb(247,251,255)"
           ],
           [
            0.125,
            "rgb(222,235,247)"
           ],
           [
            0.25,
            "rgb(198,219,239)"
           ],
           [
            0.375,
            "rgb(158,202,225)"
           ],
           [
            0.5,
            "rgb(107,174,214)"
           ],
           [
            0.625,
            "rgb(66,146,198)"
           ],
           [
            0.75,
            "rgb(33,113,181)"
           ],
           [
            0.875,
            "rgb(8,81,156)"
           ],
           [
            1,
            "rgb(8,48,107)"
           ]
          ],
          "line": {
           "color": "Grey",
           "width": 0.5
          },
          "showscale": false
         },
         "mode": "markers",
         "name": "Feasible Trial",
         "showlegend": false,
         "type": "scatter",
         "x": [
          6.49608236156072,
          7.213745550575636,
          9.940110741077433,
          7.168231682778055,
          6.696202398730382,
          8.885279605524655,
          5.801564357142548,
          8.919728128581816,
          9.693623453480045,
          6.825520750739972,
          5.055156361810699,
          8.395231039223958,
          8.142037879190944,
          6.036326273813918,
          8.023811636562836,
          9.071288798590077,
          6.209440983794098,
          7.5150483464396585,
          7.724846385641786,
          5.325485051755596,
          6.602061281491187,
          8.828583283502835,
          9.358315210141587,
          7.482278554553972,
          7.567503083162675,
          7.106933473215116,
          6.413902388632446,
          6.282725982892258,
          5.712625948057856,
          6.495830337093633,
          6.888036367705478,
          6.374152614583883,
          6.457762241779638,
          5.655460838431743,
          7.306338575207354,
          7.078495842337382,
          7.790012377575373,
          8.427441906330234,
          7.175198377532662,
          5.972883578402201,
          7.418145871676842,
          6.448523852836537,
          6.890219971066474,
          7.339284603518149,
          6.7317488850710046,
          6.3260252228953275,
          5.910063297280863,
          5.411915364805595,
          6.9498330378926365,
          7.3024706701580575
         ],
         "xaxis": "x5",
         "y": [
          0.9444188221592883,
          0.9434513979471056,
          0.939192024613901,
          0.943558919415604,
          0.9421132479293343,
          0.9422059391714609,
          0.9424396021495983,
          0.9439478331862136,
          0.9423950508000627,
          0.9418273101607534,
          0.9431465505886015,
          0.9437531899560442,
          0.9434529853292873,
          0.9409516719494939,
          0.9409299041086211,
          0.9417451315938673,
          0.9406358737404853,
          0.9441452197466408,
          0.9439211645235478,
          0.9428048255653038,
          0.9433565225698196,
          0.9431328769523212,
          0.9426294129325766,
          0.9447339632659052,
          0.9432217703544902,
          0.9426411123726149,
          0.9453183661214973,
          0.9441372465618834,
          0.9426622985478632,
          0.9445945622196849,
          0.9441193314532539,
          0.9450242577485343,
          0.9445590989140205,
          0.9434774435341772,
          0.9448869830561201,
          0.9445926708433828,
          0.9445941189083013,
          0.9439859512240605,
          0.9440683634844205,
          0.9428175602545913,
          0.9424307095993063,
          0.9457814525314684,
          0.9434957830147467,
          0.9454141127131899,
          0.9431717856316872,
          0.9447253670055531,
          0.9444110524932977,
          0.9434133299864319,
          0.9440657472731404,
          0.9445418784656624
         ],
         "yaxis": "y5"
        },
        {
         "marker": {
          "color": [
           0,
           1,
           2,
           3,
           4,
           5,
           6,
           7,
           8,
           9,
           10,
           11,
           12,
           13,
           14,
           15,
           16,
           17,
           18,
           19,
           20,
           21,
           22,
           23,
           24,
           25,
           26,
           27,
           28,
           29,
           30,
           31,
           32,
           33,
           34,
           35,
           36,
           37,
           38,
           39,
           40,
           41,
           42,
           43,
           44,
           45,
           46,
           47,
           48,
           49
          ],
          "colorbar": {
           "title": {
            "text": "Trial"
           },
           "x": 1,
           "xpad": 40
          },
          "colorscale": [
           [
            0,
            "rgb(247,251,255)"
           ],
           [
            0.125,
            "rgb(222,235,247)"
           ],
           [
            0.25,
            "rgb(198,219,239)"
           ],
           [
            0.375,
            "rgb(158,202,225)"
           ],
           [
            0.5,
            "rgb(107,174,214)"
           ],
           [
            0.625,
            "rgb(66,146,198)"
           ],
           [
            0.75,
            "rgb(33,113,181)"
           ],
           [
            0.875,
            "rgb(8,81,156)"
           ],
           [
            1,
            "rgb(8,48,107)"
           ]
          ],
          "line": {
           "color": "Grey",
           "width": 0.5
          },
          "showscale": false
         },
         "mode": "markers",
         "name": "Feasible Trial",
         "showlegend": false,
         "type": "scatter",
         "x": [
          0.08730001065254281,
          0.09455849148087528,
          0.08904343813390456,
          0.056420162309349126,
          0.08997477936862638,
          0.055264497343139096,
          0.07929117156817381,
          0.06030154045900804,
          0.08384262160121625,
          0.08666805545335524,
          0.0704804682221655,
          0.06920339437904127,
          0.09973070750112617,
          0.06367211106156977,
          0.05057145355078463,
          0.07887038223385402,
          0.06406175320467755,
          0.07395309695769371,
          0.0753204320316641,
          0.08032819520792116,
          0.07186501787423327,
          0.0633380900365471,
          0.05819943291349927,
          0.09310272866903951,
          0.09356041223771588,
          0.09957266663529026,
          0.0841990792350764,
          0.0939635418502434,
          0.0842409334585318,
          0.09079916035470646,
          0.09099485432239579,
          0.09656119519021858,
          0.09674839332379592,
          0.09173924663238722,
          0.08627395541653658,
          0.0865884105924118,
          0.09636983279373913,
          0.08259865317723734,
          0.0875770951694634,
          0.09649834263543945,
          0.08861841490017805,
          0.09168434119589226,
          0.09296239245196648,
          0.08444760562444853,
          0.085486497797935,
          0.08259394829184818,
          0.07732224907540586,
          0.08923902788719726,
          0.0813412085944605,
          0.09754969607912925
         ],
         "xaxis": "x6",
         "y": [
          0.9444188221592883,
          0.9434513979471056,
          0.939192024613901,
          0.943558919415604,
          0.9421132479293343,
          0.9422059391714609,
          0.9424396021495983,
          0.9439478331862136,
          0.9423950508000627,
          0.9418273101607534,
          0.9431465505886015,
          0.9437531899560442,
          0.9434529853292873,
          0.9409516719494939,
          0.9409299041086211,
          0.9417451315938673,
          0.9406358737404853,
          0.9441452197466408,
          0.9439211645235478,
          0.9428048255653038,
          0.9433565225698196,
          0.9431328769523212,
          0.9426294129325766,
          0.9447339632659052,
          0.9432217703544902,
          0.9426411123726149,
          0.9453183661214973,
          0.9441372465618834,
          0.9426622985478632,
          0.9445945622196849,
          0.9441193314532539,
          0.9450242577485343,
          0.9445590989140205,
          0.9434774435341772,
          0.9448869830561201,
          0.9445926708433828,
          0.9445941189083013,
          0.9439859512240605,
          0.9440683634844205,
          0.9428175602545913,
          0.9424307095993063,
          0.9457814525314684,
          0.9434957830147467,
          0.9454141127131899,
          0.9431717856316872,
          0.9447253670055531,
          0.9444110524932977,
          0.9434133299864319,
          0.9440657472731404,
          0.9445418784656624
         ],
         "yaxis": "y6"
        },
        {
         "marker": {
          "color": [
           0,
           1,
           2,
           3,
           4,
           5,
           6,
           7,
           8,
           9,
           10,
           11,
           12,
           13,
           14,
           15,
           16,
           17,
           18,
           19,
           20,
           21,
           22,
           23,
           24,
           25,
           26,
           27,
           28,
           29,
           30,
           31,
           32,
           33,
           34,
           35,
           36,
           37,
           38,
           39,
           40,
           41,
           42,
           43,
           44,
           45,
           46,
           47,
           48,
           49
          ],
          "colorbar": {
           "title": {
            "text": "Trial"
           },
           "x": 1,
           "xpad": 40
          },
          "colorscale": [
           [
            0,
            "rgb(247,251,255)"
           ],
           [
            0.125,
            "rgb(222,235,247)"
           ],
           [
            0.25,
            "rgb(198,219,239)"
           ],
           [
            0.375,
            "rgb(158,202,225)"
           ],
           [
            0.5,
            "rgb(107,174,214)"
           ],
           [
            0.625,
            "rgb(66,146,198)"
           ],
           [
            0.75,
            "rgb(33,113,181)"
           ],
           [
            0.875,
            "rgb(8,81,156)"
           ],
           [
            1,
            "rgb(8,48,107)"
           ]
          ],
          "line": {
           "color": "Grey",
           "width": 0.5
          },
          "showscale": false
         },
         "mode": "markers",
         "name": "Feasible Trial",
         "showlegend": false,
         "type": "scatter",
         "x": [
          7.10500113703489,
          6.890887628274032,
          8.292041818671379,
          5.169808451840589,
          7.348602639980687,
          8.768421758716373,
          5.161563858955919,
          9.681466075603801,
          5.330019567842646,
          6.1269687924718115,
          4.226950989483852,
          9.576885000811723,
          9.321428037964239,
          7.9036278249640315,
          6.569771259791736,
          9.93990838328186,
          7.683085364137511,
          8.575540415983841,
          8.976112486897224,
          8.421002426710121,
          6.0831003695154,
          9.83120926254904,
          9.033346672559539,
          8.183817730995457,
          7.777387790703275,
          7.209147924800532,
          8.38586890066491,
          8.28239604493688,
          6.778447541187455,
          7.445677827689878,
          7.452900372775596,
          6.968232767215771,
          7.908339708286708,
          6.3672502854746,
          8.253926290137155,
          8.03987232972944,
          7.069148576267827,
          8.208143348115643,
          8.821437714547725,
          9.335902997321135,
          5.616539205186128,
          7.510999845955329,
          6.85283404897545,
          8.569765472270998,
          7.6250663157965555,
          8.66802212863144,
          7.205396261392259,
          8.422641721727096,
          9.068301687657808,
          9.369502365645868
         ],
         "xaxis": "x7",
         "y": [
          0.9444188221592883,
          0.9434513979471056,
          0.939192024613901,
          0.943558919415604,
          0.9421132479293343,
          0.9422059391714609,
          0.9424396021495983,
          0.9439478331862136,
          0.9423950508000627,
          0.9418273101607534,
          0.9431465505886015,
          0.9437531899560442,
          0.9434529853292873,
          0.9409516719494939,
          0.9409299041086211,
          0.9417451315938673,
          0.9406358737404853,
          0.9441452197466408,
          0.9439211645235478,
          0.9428048255653038,
          0.9433565225698196,
          0.9431328769523212,
          0.9426294129325766,
          0.9447339632659052,
          0.9432217703544902,
          0.9426411123726149,
          0.9453183661214973,
          0.9441372465618834,
          0.9426622985478632,
          0.9445945622196849,
          0.9441193314532539,
          0.9450242577485343,
          0.9445590989140205,
          0.9434774435341772,
          0.9448869830561201,
          0.9445926708433828,
          0.9445941189083013,
          0.9439859512240605,
          0.9440683634844205,
          0.9428175602545913,
          0.9424307095993063,
          0.9457814525314684,
          0.9434957830147467,
          0.9454141127131899,
          0.9431717856316872,
          0.9447253670055531,
          0.9444110524932977,
          0.9434133299864319,
          0.9440657472731404,
          0.9445418784656624
         ],
         "yaxis": "y7"
        },
        {
         "marker": {
          "color": [
           0,
           1,
           2,
           3,
           4,
           5,
           6,
           7,
           8,
           9,
           10,
           11,
           12,
           13,
           14,
           15,
           16,
           17,
           18,
           19,
           20,
           21,
           22,
           23,
           24,
           25,
           26,
           27,
           28,
           29,
           30,
           31,
           32,
           33,
           34,
           35,
           36,
           37,
           38,
           39,
           40,
           41,
           42,
           43,
           44,
           45,
           46,
           47,
           48,
           49
          ],
          "colorbar": {
           "title": {
            "text": "Trial"
           },
           "x": 1,
           "xpad": 40
          },
          "colorscale": [
           [
            0,
            "rgb(247,251,255)"
           ],
           [
            0.125,
            "rgb(222,235,247)"
           ],
           [
            0.25,
            "rgb(198,219,239)"
           ],
           [
            0.375,
            "rgb(158,202,225)"
           ],
           [
            0.5,
            "rgb(107,174,214)"
           ],
           [
            0.625,
            "rgb(66,146,198)"
           ],
           [
            0.75,
            "rgb(33,113,181)"
           ],
           [
            0.875,
            "rgb(8,81,156)"
           ],
           [
            1,
            "rgb(8,48,107)"
           ]
          ],
          "line": {
           "color": "Grey",
           "width": 0.5
          },
          "showscale": false
         },
         "mode": "markers",
         "name": "Feasible Trial",
         "showlegend": false,
         "type": "scatter",
         "x": [
          3.61785929465903,
          2.64379218999511,
          2.1150925094358906,
          3.937850604221061,
          7.739252413130245,
          7.244897071829073,
          7.747093289913479,
          5.0442632237227505,
          2.2192597367904723,
          3.2140882475328096,
          5.28425089564801,
          5.078846623739837,
          4.199383935633602,
          6.052604558005194,
          5.9551725189443045,
          3.540230804104582,
          4.53824685688398,
          5.976624372869051,
          6.494738958654587,
          6.707381254881687,
          5.65512619745603,
          4.820836192203977,
          5.455750498865434,
          3.1365059505795965,
          3.12186455131626,
          3.858704328070301,
          2.758624859993902,
          2.622729118276312,
          2.8628279587775887,
          2.582413349521312,
          2.0209603859850462,
          2.679999827943974,
          2.4805699379664854,
          3.3693146122401996,
          2.875010127186187,
          2.886918397711797,
          3.800835176034825,
          2.3262151851120945,
          2.921706682187938,
          4.323400514406434,
          3.4673420895973575,
          2.484717579219497,
          3.145473842170497,
          2.323333235440323,
          2.28441076424597,
          2.013834292539976,
          2.79993880286824,
          2.406100499511983,
          3.6745102661750555,
          2.664099023524454
         ],
         "xaxis": "x8",
         "y": [
          0.9444188221592883,
          0.9434513979471056,
          0.939192024613901,
          0.943558919415604,
          0.9421132479293343,
          0.9422059391714609,
          0.9424396021495983,
          0.9439478331862136,
          0.9423950508000627,
          0.9418273101607534,
          0.9431465505886015,
          0.9437531899560442,
          0.9434529853292873,
          0.9409516719494939,
          0.9409299041086211,
          0.9417451315938673,
          0.9406358737404853,
          0.9441452197466408,
          0.9439211645235478,
          0.9428048255653038,
          0.9433565225698196,
          0.9431328769523212,
          0.9426294129325766,
          0.9447339632659052,
          0.9432217703544902,
          0.9426411123726149,
          0.9453183661214973,
          0.9441372465618834,
          0.9426622985478632,
          0.9445945622196849,
          0.9441193314532539,
          0.9450242577485343,
          0.9445590989140205,
          0.9434774435341772,
          0.9448869830561201,
          0.9445926708433828,
          0.9445941189083013,
          0.9439859512240605,
          0.9440683634844205,
          0.9428175602545913,
          0.9424307095993063,
          0.9457814525314684,
          0.9434957830147467,
          0.9454141127131899,
          0.9431717856316872,
          0.9447253670055531,
          0.9444110524932977,
          0.9434133299864319,
          0.9440657472731404,
          0.9445418784656624
         ],
         "yaxis": "y8"
        }
       ],
       "layout": {
        "template": {
         "data": {
          "bar": [
           {
            "error_x": {
             "color": "#2a3f5f"
            },
            "error_y": {
             "color": "#2a3f5f"
            },
            "marker": {
             "line": {
              "color": "#E5ECF6",
              "width": 0.5
             },
             "pattern": {
              "fillmode": "overlay",
              "size": 10,
              "solidity": 0.2
             }
            },
            "type": "bar"
           }
          ],
          "barpolar": [
           {
            "marker": {
             "line": {
              "color": "#E5ECF6",
              "width": 0.5
             },
             "pattern": {
              "fillmode": "overlay",
              "size": 10,
              "solidity": 0.2
             }
            },
            "type": "barpolar"
           }
          ],
          "carpet": [
           {
            "aaxis": {
             "endlinecolor": "#2a3f5f",
             "gridcolor": "white",
             "linecolor": "white",
             "minorgridcolor": "white",
             "startlinecolor": "#2a3f5f"
            },
            "baxis": {
             "endlinecolor": "#2a3f5f",
             "gridcolor": "white",
             "linecolor": "white",
             "minorgridcolor": "white",
             "startlinecolor": "#2a3f5f"
            },
            "type": "carpet"
           }
          ],
          "choropleth": [
           {
            "colorbar": {
             "outlinewidth": 0,
             "ticks": ""
            },
            "type": "choropleth"
           }
          ],
          "contour": [
           {
            "colorbar": {
             "outlinewidth": 0,
             "ticks": ""
            },
            "colorscale": [
             [
              0,
              "#0d0887"
             ],
             [
              0.1111111111111111,
              "#46039f"
             ],
             [
              0.2222222222222222,
              "#7201a8"
             ],
             [
              0.3333333333333333,
              "#9c179e"
             ],
             [
              0.4444444444444444,
              "#bd3786"
             ],
             [
              0.5555555555555556,
              "#d8576b"
             ],
             [
              0.6666666666666666,
              "#ed7953"
             ],
             [
              0.7777777777777778,
              "#fb9f3a"
             ],
             [
              0.8888888888888888,
              "#fdca26"
             ],
             [
              1,
              "#f0f921"
             ]
            ],
            "type": "contour"
           }
          ],
          "contourcarpet": [
           {
            "colorbar": {
             "outlinewidth": 0,
             "ticks": ""
            },
            "type": "contourcarpet"
           }
          ],
          "heatmap": [
           {
            "colorbar": {
             "outlinewidth": 0,
             "ticks": ""
            },
            "colorscale": [
             [
              0,
              "#0d0887"
             ],
             [
              0.1111111111111111,
              "#46039f"
             ],
             [
              0.2222222222222222,
              "#7201a8"
             ],
             [
              0.3333333333333333,
              "#9c179e"
             ],
             [
              0.4444444444444444,
              "#bd3786"
             ],
             [
              0.5555555555555556,
              "#d8576b"
             ],
             [
              0.6666666666666666,
              "#ed7953"
             ],
             [
              0.7777777777777778,
              "#fb9f3a"
             ],
             [
              0.8888888888888888,
              "#fdca26"
             ],
             [
              1,
              "#f0f921"
             ]
            ],
            "type": "heatmap"
           }
          ],
          "heatmapgl": [
           {
            "colorbar": {
             "outlinewidth": 0,
             "ticks": ""
            },
            "colorscale": [
             [
              0,
              "#0d0887"
             ],
             [
              0.1111111111111111,
              "#46039f"
             ],
             [
              0.2222222222222222,
              "#7201a8"
             ],
             [
              0.3333333333333333,
              "#9c179e"
             ],
             [
              0.4444444444444444,
              "#bd3786"
             ],
             [
              0.5555555555555556,
              "#d8576b"
             ],
             [
              0.6666666666666666,
              "#ed7953"
             ],
             [
              0.7777777777777778,
              "#fb9f3a"
             ],
             [
              0.8888888888888888,
              "#fdca26"
             ],
             [
              1,
              "#f0f921"
             ]
            ],
            "type": "heatmapgl"
           }
          ],
          "histogram": [
           {
            "marker": {
             "pattern": {
              "fillmode": "overlay",
              "size": 10,
              "solidity": 0.2
             }
            },
            "type": "histogram"
           }
          ],
          "histogram2d": [
           {
            "colorbar": {
             "outlinewidth": 0,
             "ticks": ""
            },
            "colorscale": [
             [
              0,
              "#0d0887"
             ],
             [
              0.1111111111111111,
              "#46039f"
             ],
             [
              0.2222222222222222,
              "#7201a8"
             ],
             [
              0.3333333333333333,
              "#9c179e"
             ],
             [
              0.4444444444444444,
              "#bd3786"
             ],
             [
              0.5555555555555556,
              "#d8576b"
             ],
             [
              0.6666666666666666,
              "#ed7953"
             ],
             [
              0.7777777777777778,
              "#fb9f3a"
             ],
             [
              0.8888888888888888,
              "#fdca26"
             ],
             [
              1,
              "#f0f921"
             ]
            ],
            "type": "histogram2d"
           }
          ],
          "histogram2dcontour": [
           {
            "colorbar": {
             "outlinewidth": 0,
             "ticks": ""
            },
            "colorscale": [
             [
              0,
              "#0d0887"
             ],
             [
              0.1111111111111111,
              "#46039f"
             ],
             [
              0.2222222222222222,
              "#7201a8"
             ],
             [
              0.3333333333333333,
              "#9c179e"
             ],
             [
              0.4444444444444444,
              "#bd3786"
             ],
             [
              0.5555555555555556,
              "#d8576b"
             ],
             [
              0.6666666666666666,
              "#ed7953"
             ],
             [
              0.7777777777777778,
              "#fb9f3a"
             ],
             [
              0.8888888888888888,
              "#fdca26"
             ],
             [
              1,
              "#f0f921"
             ]
            ],
            "type": "histogram2dcontour"
           }
          ],
          "mesh3d": [
           {
            "colorbar": {
             "outlinewidth": 0,
             "ticks": ""
            },
            "type": "mesh3d"
           }
          ],
          "parcoords": [
           {
            "line": {
             "colorbar": {
              "outlinewidth": 0,
              "ticks": ""
             }
            },
            "type": "parcoords"
           }
          ],
          "pie": [
           {
            "automargin": true,
            "type": "pie"
           }
          ],
          "scatter": [
           {
            "fillpattern": {
             "fillmode": "overlay",
             "size": 10,
             "solidity": 0.2
            },
            "type": "scatter"
           }
          ],
          "scatter3d": [
           {
            "line": {
             "colorbar": {
              "outlinewidth": 0,
              "ticks": ""
             }
            },
            "marker": {
             "colorbar": {
              "outlinewidth": 0,
              "ticks": ""
             }
            },
            "type": "scatter3d"
           }
          ],
          "scattercarpet": [
           {
            "marker": {
             "colorbar": {
              "outlinewidth": 0,
              "ticks": ""
             }
            },
            "type": "scattercarpet"
           }
          ],
          "scattergeo": [
           {
            "marker": {
             "colorbar": {
              "outlinewidth": 0,
              "ticks": ""
             }
            },
            "type": "scattergeo"
           }
          ],
          "scattergl": [
           {
            "marker": {
             "colorbar": {
              "outlinewidth": 0,
              "ticks": ""
             }
            },
            "type": "scattergl"
           }
          ],
          "scattermapbox": [
           {
            "marker": {
             "colorbar": {
              "outlinewidth": 0,
              "ticks": ""
             }
            },
            "type": "scattermapbox"
           }
          ],
          "scatterpolar": [
           {
            "marker": {
             "colorbar": {
              "outlinewidth": 0,
              "ticks": ""
             }
            },
            "type": "scatterpolar"
           }
          ],
          "scatterpolargl": [
           {
            "marker": {
             "colorbar": {
              "outlinewidth": 0,
              "ticks": ""
             }
            },
            "type": "scatterpolargl"
           }
          ],
          "scatterternary": [
           {
            "marker": {
             "colorbar": {
              "outlinewidth": 0,
              "ticks": ""
             }
            },
            "type": "scatterternary"
           }
          ],
          "surface": [
           {
            "colorbar": {
             "outlinewidth": 0,
             "ticks": ""
            },
            "colorscale": [
             [
              0,
              "#0d0887"
             ],
             [
              0.1111111111111111,
              "#46039f"
             ],
             [
              0.2222222222222222,
              "#7201a8"
             ],
             [
              0.3333333333333333,
              "#9c179e"
             ],
             [
              0.4444444444444444,
              "#bd3786"
             ],
             [
              0.5555555555555556,
              "#d8576b"
             ],
             [
              0.6666666666666666,
              "#ed7953"
             ],
             [
              0.7777777777777778,
              "#fb9f3a"
             ],
             [
              0.8888888888888888,
              "#fdca26"
             ],
             [
              1,
              "#f0f921"
             ]
            ],
            "type": "surface"
           }
          ],
          "table": [
           {
            "cells": {
             "fill": {
              "color": "#EBF0F8"
             },
             "line": {
              "color": "white"
             }
            },
            "header": {
             "fill": {
              "color": "#C8D4E3"
             },
             "line": {
              "color": "white"
             }
            },
            "type": "table"
           }
          ]
         },
         "layout": {
          "annotationdefaults": {
           "arrowcolor": "#2a3f5f",
           "arrowhead": 0,
           "arrowwidth": 1
          },
          "autotypenumbers": "strict",
          "coloraxis": {
           "colorbar": {
            "outlinewidth": 0,
            "ticks": ""
           }
          },
          "colorscale": {
           "diverging": [
            [
             0,
             "#8e0152"
            ],
            [
             0.1,
             "#c51b7d"
            ],
            [
             0.2,
             "#de77ae"
            ],
            [
             0.3,
             "#f1b6da"
            ],
            [
             0.4,
             "#fde0ef"
            ],
            [
             0.5,
             "#f7f7f7"
            ],
            [
             0.6,
             "#e6f5d0"
            ],
            [
             0.7,
             "#b8e186"
            ],
            [
             0.8,
             "#7fbc41"
            ],
            [
             0.9,
             "#4d9221"
            ],
            [
             1,
             "#276419"
            ]
           ],
           "sequential": [
            [
             0,
             "#0d0887"
            ],
            [
             0.1111111111111111,
             "#46039f"
            ],
            [
             0.2222222222222222,
             "#7201a8"
            ],
            [
             0.3333333333333333,
             "#9c179e"
            ],
            [
             0.4444444444444444,
             "#bd3786"
            ],
            [
             0.5555555555555556,
             "#d8576b"
            ],
            [
             0.6666666666666666,
             "#ed7953"
            ],
            [
             0.7777777777777778,
             "#fb9f3a"
            ],
            [
             0.8888888888888888,
             "#fdca26"
            ],
            [
             1,
             "#f0f921"
            ]
           ],
           "sequentialminus": [
            [
             0,
             "#0d0887"
            ],
            [
             0.1111111111111111,
             "#46039f"
            ],
            [
             0.2222222222222222,
             "#7201a8"
            ],
            [
             0.3333333333333333,
             "#9c179e"
            ],
            [
             0.4444444444444444,
             "#bd3786"
            ],
            [
             0.5555555555555556,
             "#d8576b"
            ],
            [
             0.6666666666666666,
             "#ed7953"
            ],
            [
             0.7777777777777778,
             "#fb9f3a"
            ],
            [
             0.8888888888888888,
             "#fdca26"
            ],
            [
             1,
             "#f0f921"
            ]
           ]
          },
          "colorway": [
           "#636efa",
           "#EF553B",
           "#00cc96",
           "#ab63fa",
           "#FFA15A",
           "#19d3f3",
           "#FF6692",
           "#B6E880",
           "#FF97FF",
           "#FECB52"
          ],
          "font": {
           "color": "#2a3f5f"
          },
          "geo": {
           "bgcolor": "white",
           "lakecolor": "white",
           "landcolor": "#E5ECF6",
           "showlakes": true,
           "showland": true,
           "subunitcolor": "white"
          },
          "hoverlabel": {
           "align": "left"
          },
          "hovermode": "closest",
          "mapbox": {
           "style": "light"
          },
          "paper_bgcolor": "white",
          "plot_bgcolor": "#E5ECF6",
          "polar": {
           "angularaxis": {
            "gridcolor": "white",
            "linecolor": "white",
            "ticks": ""
           },
           "bgcolor": "#E5ECF6",
           "radialaxis": {
            "gridcolor": "white",
            "linecolor": "white",
            "ticks": ""
           }
          },
          "scene": {
           "xaxis": {
            "backgroundcolor": "#E5ECF6",
            "gridcolor": "white",
            "gridwidth": 2,
            "linecolor": "white",
            "showbackground": true,
            "ticks": "",
            "zerolinecolor": "white"
           },
           "yaxis": {
            "backgroundcolor": "#E5ECF6",
            "gridcolor": "white",
            "gridwidth": 2,
            "linecolor": "white",
            "showbackground": true,
            "ticks": "",
            "zerolinecolor": "white"
           },
           "zaxis": {
            "backgroundcolor": "#E5ECF6",
            "gridcolor": "white",
            "gridwidth": 2,
            "linecolor": "white",
            "showbackground": true,
            "ticks": "",
            "zerolinecolor": "white"
           }
          },
          "shapedefaults": {
           "line": {
            "color": "#2a3f5f"
           }
          },
          "ternary": {
           "aaxis": {
            "gridcolor": "white",
            "linecolor": "white",
            "ticks": ""
           },
           "baxis": {
            "gridcolor": "white",
            "linecolor": "white",
            "ticks": ""
           },
           "bgcolor": "#E5ECF6",
           "caxis": {
            "gridcolor": "white",
            "linecolor": "white",
            "ticks": ""
           }
          },
          "title": {
           "x": 0.05
          },
          "xaxis": {
           "automargin": true,
           "gridcolor": "white",
           "linecolor": "white",
           "ticks": "",
           "title": {
            "standoff": 15
           },
           "zerolinecolor": "white",
           "zerolinewidth": 2
          },
          "yaxis": {
           "automargin": true,
           "gridcolor": "white",
           "linecolor": "white",
           "ticks": "",
           "title": {
            "standoff": 15
           },
           "zerolinecolor": "white",
           "zerolinewidth": 2
          }
         }
        },
        "title": {
         "text": "Slice Plot"
        },
        "width": 2400,
        "xaxis": {
         "anchor": "y",
         "domain": [
          0,
          0.103125
         ],
         "title": {
          "text": "bagging_temperature"
         }
        },
        "xaxis2": {
         "anchor": "y2",
         "domain": [
          0.128125,
          0.23124999999999998
         ],
         "title": {
          "text": "border_count"
         }
        },
        "xaxis3": {
         "anchor": "y3",
         "domain": [
          0.25625,
          0.359375
         ],
         "title": {
          "text": "depth"
         }
        },
        "xaxis4": {
         "anchor": "y4",
         "domain": [
          0.38437499999999997,
          0.48749999999999993
         ],
         "title": {
          "text": "iterations"
         }
        },
        "xaxis5": {
         "anchor": "y5",
         "domain": [
          0.5125,
          0.615625
         ],
         "title": {
          "text": "l2_leaf_reg"
         }
        },
        "xaxis6": {
         "anchor": "y6",
         "domain": [
          0.640625,
          0.74375
         ],
         "title": {
          "text": "learning_rate"
         }
        },
        "xaxis7": {
         "anchor": "y7",
         "domain": [
          0.7687499999999999,
          0.871875
         ],
         "title": {
          "text": "random_strength"
         }
        },
        "xaxis8": {
         "anchor": "y8",
         "domain": [
          0.896875,
          1
         ],
         "title": {
          "text": "scale_pos_weight"
         }
        },
        "yaxis": {
         "anchor": "x",
         "domain": [
          0,
          1
         ],
         "title": {
          "text": "Objective Value"
         }
        },
        "yaxis2": {
         "anchor": "x2",
         "domain": [
          0,
          1
         ],
         "matches": "y",
         "showticklabels": false
        },
        "yaxis3": {
         "anchor": "x3",
         "domain": [
          0,
          1
         ],
         "matches": "y",
         "showticklabels": false
        },
        "yaxis4": {
         "anchor": "x4",
         "domain": [
          0,
          1
         ],
         "matches": "y",
         "showticklabels": false
        },
        "yaxis5": {
         "anchor": "x5",
         "domain": [
          0,
          1
         ],
         "matches": "y",
         "showticklabels": false
        },
        "yaxis6": {
         "anchor": "x6",
         "domain": [
          0,
          1
         ],
         "matches": "y",
         "showticklabels": false
        },
        "yaxis7": {
         "anchor": "x7",
         "domain": [
          0,
          1
         ],
         "matches": "y",
         "showticklabels": false
        },
        "yaxis8": {
         "anchor": "x8",
         "domain": [
          0,
          1
         ],
         "matches": "y",
         "showticklabels": false
        }
       }
      }
     },
     "metadata": {},
     "output_type": "display_data"
    }
   ],
   "source": [
    "ov.plot_slice(study).show()"
   ]
  },
  {
   "cell_type": "code",
   "execution_count": 70,
   "metadata": {},
   "outputs": [
    {
     "data": {
      "application/vnd.plotly.v1+json": {
       "config": {
        "plotlyServerURL": "https://plot.ly"
       },
       "data": [
        {
         "mode": "markers",
         "name": "Objective Value",
         "type": "scatter",
         "x": [
          0,
          1,
          2,
          3,
          4,
          5,
          6,
          7,
          8,
          9,
          10,
          11,
          12,
          13,
          14,
          15,
          16,
          17,
          18,
          19,
          20,
          21,
          22,
          23,
          24,
          25,
          26,
          27,
          28,
          29,
          30,
          31,
          32,
          33,
          34,
          35,
          36,
          37,
          38,
          39,
          40,
          41,
          42,
          43,
          44,
          45,
          46,
          47,
          48,
          49
         ],
         "y": [
          0.9444188221592883,
          0.9434513979471056,
          0.939192024613901,
          0.943558919415604,
          0.9421132479293343,
          0.9422059391714609,
          0.9424396021495983,
          0.9439478331862136,
          0.9423950508000627,
          0.9418273101607534,
          0.9431465505886015,
          0.9437531899560442,
          0.9434529853292873,
          0.9409516719494939,
          0.9409299041086211,
          0.9417451315938673,
          0.9406358737404853,
          0.9441452197466408,
          0.9439211645235478,
          0.9428048255653038,
          0.9433565225698196,
          0.9431328769523212,
          0.9426294129325766,
          0.9447339632659052,
          0.9432217703544902,
          0.9426411123726149,
          0.9453183661214973,
          0.9441372465618834,
          0.9426622985478632,
          0.9445945622196849,
          0.9441193314532539,
          0.9450242577485343,
          0.9445590989140205,
          0.9434774435341772,
          0.9448869830561201,
          0.9445926708433828,
          0.9445941189083013,
          0.9439859512240605,
          0.9440683634844205,
          0.9428175602545913,
          0.9424307095993063,
          0.9457814525314684,
          0.9434957830147467,
          0.9454141127131899,
          0.9431717856316872,
          0.9447253670055531,
          0.9444110524932977,
          0.9434133299864319,
          0.9440657472731404,
          0.9445418784656624
         ]
        },
        {
         "mode": "lines",
         "name": "Best Value",
         "type": "scatter",
         "x": [
          0,
          1,
          2,
          3,
          4,
          5,
          6,
          7,
          8,
          9,
          10,
          11,
          12,
          13,
          14,
          15,
          16,
          17,
          18,
          19,
          20,
          21,
          22,
          23,
          24,
          25,
          26,
          27,
          28,
          29,
          30,
          31,
          32,
          33,
          34,
          35,
          36,
          37,
          38,
          39,
          40,
          41,
          42,
          43,
          44,
          45,
          46,
          47,
          48,
          49
         ],
         "y": [
          0.9444188221592883,
          0.9444188221592883,
          0.9444188221592883,
          0.9444188221592883,
          0.9444188221592883,
          0.9444188221592883,
          0.9444188221592883,
          0.9444188221592883,
          0.9444188221592883,
          0.9444188221592883,
          0.9444188221592883,
          0.9444188221592883,
          0.9444188221592883,
          0.9444188221592883,
          0.9444188221592883,
          0.9444188221592883,
          0.9444188221592883,
          0.9444188221592883,
          0.9444188221592883,
          0.9444188221592883,
          0.9444188221592883,
          0.9444188221592883,
          0.9444188221592883,
          0.9447339632659052,
          0.9447339632659052,
          0.9447339632659052,
          0.9453183661214973,
          0.9453183661214973,
          0.9453183661214973,
          0.9453183661214973,
          0.9453183661214973,
          0.9453183661214973,
          0.9453183661214973,
          0.9453183661214973,
          0.9453183661214973,
          0.9453183661214973,
          0.9453183661214973,
          0.9453183661214973,
          0.9453183661214973,
          0.9453183661214973,
          0.9453183661214973,
          0.9457814525314684,
          0.9457814525314684,
          0.9457814525314684,
          0.9457814525314684,
          0.9457814525314684,
          0.9457814525314684,
          0.9457814525314684,
          0.9457814525314684,
          0.9457814525314684
         ]
        },
        {
         "marker": {
          "color": "#cccccc"
         },
         "mode": "markers",
         "name": "Infeasible Trial",
         "showlegend": false,
         "type": "scatter",
         "x": [],
         "y": []
        }
       ],
       "layout": {
        "template": {
         "data": {
          "bar": [
           {
            "error_x": {
             "color": "#2a3f5f"
            },
            "error_y": {
             "color": "#2a3f5f"
            },
            "marker": {
             "line": {
              "color": "#E5ECF6",
              "width": 0.5
             },
             "pattern": {
              "fillmode": "overlay",
              "size": 10,
              "solidity": 0.2
             }
            },
            "type": "bar"
           }
          ],
          "barpolar": [
           {
            "marker": {
             "line": {
              "color": "#E5ECF6",
              "width": 0.5
             },
             "pattern": {
              "fillmode": "overlay",
              "size": 10,
              "solidity": 0.2
             }
            },
            "type": "barpolar"
           }
          ],
          "carpet": [
           {
            "aaxis": {
             "endlinecolor": "#2a3f5f",
             "gridcolor": "white",
             "linecolor": "white",
             "minorgridcolor": "white",
             "startlinecolor": "#2a3f5f"
            },
            "baxis": {
             "endlinecolor": "#2a3f5f",
             "gridcolor": "white",
             "linecolor": "white",
             "minorgridcolor": "white",
             "startlinecolor": "#2a3f5f"
            },
            "type": "carpet"
           }
          ],
          "choropleth": [
           {
            "colorbar": {
             "outlinewidth": 0,
             "ticks": ""
            },
            "type": "choropleth"
           }
          ],
          "contour": [
           {
            "colorbar": {
             "outlinewidth": 0,
             "ticks": ""
            },
            "colorscale": [
             [
              0,
              "#0d0887"
             ],
             [
              0.1111111111111111,
              "#46039f"
             ],
             [
              0.2222222222222222,
              "#7201a8"
             ],
             [
              0.3333333333333333,
              "#9c179e"
             ],
             [
              0.4444444444444444,
              "#bd3786"
             ],
             [
              0.5555555555555556,
              "#d8576b"
             ],
             [
              0.6666666666666666,
              "#ed7953"
             ],
             [
              0.7777777777777778,
              "#fb9f3a"
             ],
             [
              0.8888888888888888,
              "#fdca26"
             ],
             [
              1,
              "#f0f921"
             ]
            ],
            "type": "contour"
           }
          ],
          "contourcarpet": [
           {
            "colorbar": {
             "outlinewidth": 0,
             "ticks": ""
            },
            "type": "contourcarpet"
           }
          ],
          "heatmap": [
           {
            "colorbar": {
             "outlinewidth": 0,
             "ticks": ""
            },
            "colorscale": [
             [
              0,
              "#0d0887"
             ],
             [
              0.1111111111111111,
              "#46039f"
             ],
             [
              0.2222222222222222,
              "#7201a8"
             ],
             [
              0.3333333333333333,
              "#9c179e"
             ],
             [
              0.4444444444444444,
              "#bd3786"
             ],
             [
              0.5555555555555556,
              "#d8576b"
             ],
             [
              0.6666666666666666,
              "#ed7953"
             ],
             [
              0.7777777777777778,
              "#fb9f3a"
             ],
             [
              0.8888888888888888,
              "#fdca26"
             ],
             [
              1,
              "#f0f921"
             ]
            ],
            "type": "heatmap"
           }
          ],
          "heatmapgl": [
           {
            "colorbar": {
             "outlinewidth": 0,
             "ticks": ""
            },
            "colorscale": [
             [
              0,
              "#0d0887"
             ],
             [
              0.1111111111111111,
              "#46039f"
             ],
             [
              0.2222222222222222,
              "#7201a8"
             ],
             [
              0.3333333333333333,
              "#9c179e"
             ],
             [
              0.4444444444444444,
              "#bd3786"
             ],
             [
              0.5555555555555556,
              "#d8576b"
             ],
             [
              0.6666666666666666,
              "#ed7953"
             ],
             [
              0.7777777777777778,
              "#fb9f3a"
             ],
             [
              0.8888888888888888,
              "#fdca26"
             ],
             [
              1,
              "#f0f921"
             ]
            ],
            "type": "heatmapgl"
           }
          ],
          "histogram": [
           {
            "marker": {
             "pattern": {
              "fillmode": "overlay",
              "size": 10,
              "solidity": 0.2
             }
            },
            "type": "histogram"
           }
          ],
          "histogram2d": [
           {
            "colorbar": {
             "outlinewidth": 0,
             "ticks": ""
            },
            "colorscale": [
             [
              0,
              "#0d0887"
             ],
             [
              0.1111111111111111,
              "#46039f"
             ],
             [
              0.2222222222222222,
              "#7201a8"
             ],
             [
              0.3333333333333333,
              "#9c179e"
             ],
             [
              0.4444444444444444,
              "#bd3786"
             ],
             [
              0.5555555555555556,
              "#d8576b"
             ],
             [
              0.6666666666666666,
              "#ed7953"
             ],
             [
              0.7777777777777778,
              "#fb9f3a"
             ],
             [
              0.8888888888888888,
              "#fdca26"
             ],
             [
              1,
              "#f0f921"
             ]
            ],
            "type": "histogram2d"
           }
          ],
          "histogram2dcontour": [
           {
            "colorbar": {
             "outlinewidth": 0,
             "ticks": ""
            },
            "colorscale": [
             [
              0,
              "#0d0887"
             ],
             [
              0.1111111111111111,
              "#46039f"
             ],
             [
              0.2222222222222222,
              "#7201a8"
             ],
             [
              0.3333333333333333,
              "#9c179e"
             ],
             [
              0.4444444444444444,
              "#bd3786"
             ],
             [
              0.5555555555555556,
              "#d8576b"
             ],
             [
              0.6666666666666666,
              "#ed7953"
             ],
             [
              0.7777777777777778,
              "#fb9f3a"
             ],
             [
              0.8888888888888888,
              "#fdca26"
             ],
             [
              1,
              "#f0f921"
             ]
            ],
            "type": "histogram2dcontour"
           }
          ],
          "mesh3d": [
           {
            "colorbar": {
             "outlinewidth": 0,
             "ticks": ""
            },
            "type": "mesh3d"
           }
          ],
          "parcoords": [
           {
            "line": {
             "colorbar": {
              "outlinewidth": 0,
              "ticks": ""
             }
            },
            "type": "parcoords"
           }
          ],
          "pie": [
           {
            "automargin": true,
            "type": "pie"
           }
          ],
          "scatter": [
           {
            "fillpattern": {
             "fillmode": "overlay",
             "size": 10,
             "solidity": 0.2
            },
            "type": "scatter"
           }
          ],
          "scatter3d": [
           {
            "line": {
             "colorbar": {
              "outlinewidth": 0,
              "ticks": ""
             }
            },
            "marker": {
             "colorbar": {
              "outlinewidth": 0,
              "ticks": ""
             }
            },
            "type": "scatter3d"
           }
          ],
          "scattercarpet": [
           {
            "marker": {
             "colorbar": {
              "outlinewidth": 0,
              "ticks": ""
             }
            },
            "type": "scattercarpet"
           }
          ],
          "scattergeo": [
           {
            "marker": {
             "colorbar": {
              "outlinewidth": 0,
              "ticks": ""
             }
            },
            "type": "scattergeo"
           }
          ],
          "scattergl": [
           {
            "marker": {
             "colorbar": {
              "outlinewidth": 0,
              "ticks": ""
             }
            },
            "type": "scattergl"
           }
          ],
          "scattermapbox": [
           {
            "marker": {
             "colorbar": {
              "outlinewidth": 0,
              "ticks": ""
             }
            },
            "type": "scattermapbox"
           }
          ],
          "scatterpolar": [
           {
            "marker": {
             "colorbar": {
              "outlinewidth": 0,
              "ticks": ""
             }
            },
            "type": "scatterpolar"
           }
          ],
          "scatterpolargl": [
           {
            "marker": {
             "colorbar": {
              "outlinewidth": 0,
              "ticks": ""
             }
            },
            "type": "scatterpolargl"
           }
          ],
          "scatterternary": [
           {
            "marker": {
             "colorbar": {
              "outlinewidth": 0,
              "ticks": ""
             }
            },
            "type": "scatterternary"
           }
          ],
          "surface": [
           {
            "colorbar": {
             "outlinewidth": 0,
             "ticks": ""
            },
            "colorscale": [
             [
              0,
              "#0d0887"
             ],
             [
              0.1111111111111111,
              "#46039f"
             ],
             [
              0.2222222222222222,
              "#7201a8"
             ],
             [
              0.3333333333333333,
              "#9c179e"
             ],
             [
              0.4444444444444444,
              "#bd3786"
             ],
             [
              0.5555555555555556,
              "#d8576b"
             ],
             [
              0.6666666666666666,
              "#ed7953"
             ],
             [
              0.7777777777777778,
              "#fb9f3a"
             ],
             [
              0.8888888888888888,
              "#fdca26"
             ],
             [
              1,
              "#f0f921"
             ]
            ],
            "type": "surface"
           }
          ],
          "table": [
           {
            "cells": {
             "fill": {
              "color": "#EBF0F8"
             },
             "line": {
              "color": "white"
             }
            },
            "header": {
             "fill": {
              "color": "#C8D4E3"
             },
             "line": {
              "color": "white"
             }
            },
            "type": "table"
           }
          ]
         },
         "layout": {
          "annotationdefaults": {
           "arrowcolor": "#2a3f5f",
           "arrowhead": 0,
           "arrowwidth": 1
          },
          "autotypenumbers": "strict",
          "coloraxis": {
           "colorbar": {
            "outlinewidth": 0,
            "ticks": ""
           }
          },
          "colorscale": {
           "diverging": [
            [
             0,
             "#8e0152"
            ],
            [
             0.1,
             "#c51b7d"
            ],
            [
             0.2,
             "#de77ae"
            ],
            [
             0.3,
             "#f1b6da"
            ],
            [
             0.4,
             "#fde0ef"
            ],
            [
             0.5,
             "#f7f7f7"
            ],
            [
             0.6,
             "#e6f5d0"
            ],
            [
             0.7,
             "#b8e186"
            ],
            [
             0.8,
             "#7fbc41"
            ],
            [
             0.9,
             "#4d9221"
            ],
            [
             1,
             "#276419"
            ]
           ],
           "sequential": [
            [
             0,
             "#0d0887"
            ],
            [
             0.1111111111111111,
             "#46039f"
            ],
            [
             0.2222222222222222,
             "#7201a8"
            ],
            [
             0.3333333333333333,
             "#9c179e"
            ],
            [
             0.4444444444444444,
             "#bd3786"
            ],
            [
             0.5555555555555556,
             "#d8576b"
            ],
            [
             0.6666666666666666,
             "#ed7953"
            ],
            [
             0.7777777777777778,
             "#fb9f3a"
            ],
            [
             0.8888888888888888,
             "#fdca26"
            ],
            [
             1,
             "#f0f921"
            ]
           ],
           "sequentialminus": [
            [
             0,
             "#0d0887"
            ],
            [
             0.1111111111111111,
             "#46039f"
            ],
            [
             0.2222222222222222,
             "#7201a8"
            ],
            [
             0.3333333333333333,
             "#9c179e"
            ],
            [
             0.4444444444444444,
             "#bd3786"
            ],
            [
             0.5555555555555556,
             "#d8576b"
            ],
            [
             0.6666666666666666,
             "#ed7953"
            ],
            [
             0.7777777777777778,
             "#fb9f3a"
            ],
            [
             0.8888888888888888,
             "#fdca26"
            ],
            [
             1,
             "#f0f921"
            ]
           ]
          },
          "colorway": [
           "#636efa",
           "#EF553B",
           "#00cc96",
           "#ab63fa",
           "#FFA15A",
           "#19d3f3",
           "#FF6692",
           "#B6E880",
           "#FF97FF",
           "#FECB52"
          ],
          "font": {
           "color": "#2a3f5f"
          },
          "geo": {
           "bgcolor": "white",
           "lakecolor": "white",
           "landcolor": "#E5ECF6",
           "showlakes": true,
           "showland": true,
           "subunitcolor": "white"
          },
          "hoverlabel": {
           "align": "left"
          },
          "hovermode": "closest",
          "mapbox": {
           "style": "light"
          },
          "paper_bgcolor": "white",
          "plot_bgcolor": "#E5ECF6",
          "polar": {
           "angularaxis": {
            "gridcolor": "white",
            "linecolor": "white",
            "ticks": ""
           },
           "bgcolor": "#E5ECF6",
           "radialaxis": {
            "gridcolor": "white",
            "linecolor": "white",
            "ticks": ""
           }
          },
          "scene": {
           "xaxis": {
            "backgroundcolor": "#E5ECF6",
            "gridcolor": "white",
            "gridwidth": 2,
            "linecolor": "white",
            "showbackground": true,
            "ticks": "",
            "zerolinecolor": "white"
           },
           "yaxis": {
            "backgroundcolor": "#E5ECF6",
            "gridcolor": "white",
            "gridwidth": 2,
            "linecolor": "white",
            "showbackground": true,
            "ticks": "",
            "zerolinecolor": "white"
           },
           "zaxis": {
            "backgroundcolor": "#E5ECF6",
            "gridcolor": "white",
            "gridwidth": 2,
            "linecolor": "white",
            "showbackground": true,
            "ticks": "",
            "zerolinecolor": "white"
           }
          },
          "shapedefaults": {
           "line": {
            "color": "#2a3f5f"
           }
          },
          "ternary": {
           "aaxis": {
            "gridcolor": "white",
            "linecolor": "white",
            "ticks": ""
           },
           "baxis": {
            "gridcolor": "white",
            "linecolor": "white",
            "ticks": ""
           },
           "bgcolor": "#E5ECF6",
           "caxis": {
            "gridcolor": "white",
            "linecolor": "white",
            "ticks": ""
           }
          },
          "title": {
           "x": 0.05
          },
          "xaxis": {
           "automargin": true,
           "gridcolor": "white",
           "linecolor": "white",
           "ticks": "",
           "title": {
            "standoff": 15
           },
           "zerolinecolor": "white",
           "zerolinewidth": 2
          },
          "yaxis": {
           "automargin": true,
           "gridcolor": "white",
           "linecolor": "white",
           "ticks": "",
           "title": {
            "standoff": 15
           },
           "zerolinecolor": "white",
           "zerolinewidth": 2
          }
         }
        },
        "title": {
         "text": "Optimization History Plot"
        },
        "xaxis": {
         "title": {
          "text": "Trial"
         }
        },
        "yaxis": {
         "title": {
          "text": "Objective Value"
         }
        }
       }
      }
     },
     "metadata": {},
     "output_type": "display_data"
    }
   ],
   "source": [
    "ov.plot_optimization_history(study).show()"
   ]
  },
  {
   "cell_type": "code",
   "execution_count": 71,
   "metadata": {},
   "outputs": [
    {
     "data": {
      "application/vnd.plotly.v1+json": {
       "config": {
        "plotlyServerURL": "https://plot.ly"
       },
       "data": [
        {
         "marker": {
          "color": [
           0,
           1,
           2,
           3,
           4,
           5,
           6,
           7,
           8,
           9,
           10,
           11,
           12,
           13,
           14,
           15,
           16,
           17,
           18,
           19,
           20,
           21,
           22,
           23,
           24,
           25,
           26,
           27,
           28,
           29,
           30,
           31,
           32,
           33,
           34,
           35,
           36,
           37,
           38,
           39,
           40,
           41,
           42,
           43,
           44,
           45,
           46,
           47,
           48,
           49
          ],
          "colorbar": {
           "title": {
            "text": "Trial"
           },
           "x": 1,
           "xpad": 40
          },
          "colorscale": [
           [
            0,
            "rgb(247,251,255)"
           ],
           [
            0.125,
            "rgb(222,235,247)"
           ],
           [
            0.25,
            "rgb(198,219,239)"
           ],
           [
            0.375,
            "rgb(158,202,225)"
           ],
           [
            0.5,
            "rgb(107,174,214)"
           ],
           [
            0.625,
            "rgb(66,146,198)"
           ],
           [
            0.75,
            "rgb(33,113,181)"
           ],
           [
            0.875,
            "rgb(8,81,156)"
           ],
           [
            1,
            "rgb(8,48,107)"
           ]
          ],
          "line": {
           "color": "Grey",
           "width": 0.5
          },
          "showscale": true
         },
         "mode": "markers",
         "name": "Feasible Trial",
         "showlegend": false,
         "type": "scatter",
         "x": [
          1.8711261410956084,
          1.39774044291482,
          1.076592622483413,
          1.259916131019349,
          1.8919219647127754,
          1.0079010311716816,
          1.600930797142666,
          1.0577449618291968,
          1.9909325614750815,
          1.7896345599196997,
          1.6899795830877036,
          1.4730759242391591,
          1.2972932932745647,
          1.1762132941452652,
          1.5804723899812476,
          1.7624710970568755,
          1.3944486583404065,
          1.9684821748887695,
          1.9660924858661055,
          1.8445906307223516,
          1.6886534255391885,
          1.9008136963581863,
          1.9884003867996403,
          1.7613276629474108,
          1.7623096544174823,
          1.8780587650686484,
          1.6892210643653012,
          1.6698932621180465,
          1.534923490935287,
          1.8163559555416737,
          1.6494568673503438,
          1.7829849363169146,
          1.788826410288161,
          1.7304190061646443,
          1.8317481156948332,
          1.5843478792214092,
          1.902559445706582,
          1.7276059050382988,
          1.6339018595634751,
          1.8371912383216888,
          1.4903674228320452,
          1.8214407526464864,
          1.9265553461740221,
          1.7337024911997378,
          1.7097736199358442,
          1.8224908781551403,
          1.6150272967832746,
          1.5322281364120012,
          1.801783032543311,
          1.4362888754080705
         ],
         "xaxis": "x",
         "y": [
          0.9444188221592883,
          0.9434513979471056,
          0.939192024613901,
          0.943558919415604,
          0.9421132479293343,
          0.9422059391714609,
          0.9424396021495983,
          0.9439478331862136,
          0.9423950508000627,
          0.9418273101607534,
          0.9431465505886015,
          0.9437531899560442,
          0.9434529853292873,
          0.9409516719494939,
          0.9409299041086211,
          0.9417451315938673,
          0.9406358737404853,
          0.9441452197466408,
          0.9439211645235478,
          0.9428048255653038,
          0.9433565225698196,
          0.9431328769523212,
          0.9426294129325766,
          0.9447339632659052,
          0.9432217703544902,
          0.9426411123726149,
          0.9453183661214973,
          0.9441372465618834,
          0.9426622985478632,
          0.9445945622196849,
          0.9441193314532539,
          0.9450242577485343,
          0.9445590989140205,
          0.9434774435341772,
          0.9448869830561201,
          0.9445926708433828,
          0.9445941189083013,
          0.9439859512240605,
          0.9440683634844205,
          0.9428175602545913,
          0.9424307095993063,
          0.9457814525314684,
          0.9434957830147467,
          0.9454141127131899,
          0.9431717856316872,
          0.9447253670055531,
          0.9444110524932977,
          0.9434133299864319,
          0.9440657472731404,
          0.9445418784656624
         ],
         "yaxis": "y"
        },
        {
         "marker": {
          "color": [
           0,
           1,
           2,
           3,
           4,
           5,
           6,
           7,
           8,
           9,
           10,
           11,
           12,
           13,
           14,
           15,
           16,
           17,
           18,
           19,
           20,
           21,
           22,
           23,
           24,
           25,
           26,
           27,
           28,
           29,
           30,
           31,
           32,
           33,
           34,
           35,
           36,
           37,
           38,
           39,
           40,
           41,
           42,
           43,
           44,
           45,
           46,
           47,
           48,
           49
          ],
          "colorbar": {
           "title": {
            "text": "Trial"
           },
           "x": 1,
           "xpad": 40
          },
          "colorscale": [
           [
            0,
            "rgb(247,251,255)"
           ],
           [
            0.125,
            "rgb(222,235,247)"
           ],
           [
            0.25,
            "rgb(198,219,239)"
           ],
           [
            0.375,
            "rgb(158,202,225)"
           ],
           [
            0.5,
            "rgb(107,174,214)"
           ],
           [
            0.625,
            "rgb(66,146,198)"
           ],
           [
            0.75,
            "rgb(33,113,181)"
           ],
           [
            0.875,
            "rgb(8,81,156)"
           ],
           [
            1,
            "rgb(8,48,107)"
           ]
          ],
          "line": {
           "color": "Grey",
           "width": 0.5
          },
          "showscale": false
         },
         "mode": "markers",
         "name": "Feasible Trial",
         "showlegend": false,
         "type": "scatter",
         "x": [
          250,
          238,
          266,
          298,
          308,
          343,
          224,
          318,
          336,
          221,
          265,
          312,
          249,
          286,
          325,
          272,
          250,
          293,
          286,
          242,
          294,
          323,
          304,
          320,
          211,
          277,
          336,
          337,
          348,
          335,
          330,
          350,
          347,
          332,
          350,
          343,
          349,
          317,
          341,
          327,
          320,
          338,
          350,
          341,
          339,
          331,
          311,
          342,
          337,
          343
         ],
         "xaxis": "x2",
         "y": [
          0.9444188221592883,
          0.9434513979471056,
          0.939192024613901,
          0.943558919415604,
          0.9421132479293343,
          0.9422059391714609,
          0.9424396021495983,
          0.9439478331862136,
          0.9423950508000627,
          0.9418273101607534,
          0.9431465505886015,
          0.9437531899560442,
          0.9434529853292873,
          0.9409516719494939,
          0.9409299041086211,
          0.9417451315938673,
          0.9406358737404853,
          0.9441452197466408,
          0.9439211645235478,
          0.9428048255653038,
          0.9433565225698196,
          0.9431328769523212,
          0.9426294129325766,
          0.9447339632659052,
          0.9432217703544902,
          0.9426411123726149,
          0.9453183661214973,
          0.9441372465618834,
          0.9426622985478632,
          0.9445945622196849,
          0.9441193314532539,
          0.9450242577485343,
          0.9445590989140205,
          0.9434774435341772,
          0.9448869830561201,
          0.9445926708433828,
          0.9445941189083013,
          0.9439859512240605,
          0.9440683634844205,
          0.9428175602545913,
          0.9424307095993063,
          0.9457814525314684,
          0.9434957830147467,
          0.9454141127131899,
          0.9431717856316872,
          0.9447253670055531,
          0.9444110524932977,
          0.9434133299864319,
          0.9440657472731404,
          0.9445418784656624
         ],
         "yaxis": "y2"
        },
        {
         "marker": {
          "color": [
           0,
           1,
           2,
           3,
           4,
           5,
           6,
           7,
           8,
           9,
           10,
           11,
           12,
           13,
           14,
           15,
           16,
           17,
           18,
           19,
           20,
           21,
           22,
           23,
           24,
           25,
           26,
           27,
           28,
           29,
           30,
           31,
           32,
           33,
           34,
           35,
           36,
           37,
           38,
           39,
           40,
           41,
           42,
           43,
           44,
           45,
           46,
           47,
           48,
           49
          ],
          "colorbar": {
           "title": {
            "text": "Trial"
           },
           "x": 1,
           "xpad": 40
          },
          "colorscale": [
           [
            0,
            "rgb(247,251,255)"
           ],
           [
            0.125,
            "rgb(222,235,247)"
           ],
           [
            0.25,
            "rgb(198,219,239)"
           ],
           [
            0.375,
            "rgb(158,202,225)"
           ],
           [
            0.5,
            "rgb(107,174,214)"
           ],
           [
            0.625,
            "rgb(66,146,198)"
           ],
           [
            0.75,
            "rgb(33,113,181)"
           ],
           [
            0.875,
            "rgb(8,81,156)"
           ],
           [
            1,
            "rgb(8,48,107)"
           ]
          ],
          "line": {
           "color": "Grey",
           "width": 0.5
          },
          "showscale": false
         },
         "mode": "markers",
         "name": "Feasible Trial",
         "showlegend": false,
         "type": "scatter",
         "x": [
          3,
          3,
          6,
          4,
          4,
          4,
          2,
          4,
          5,
          5,
          2,
          3,
          3,
          5,
          3,
          2,
          6,
          3,
          3,
          2,
          3,
          4,
          4,
          3,
          3,
          2,
          3,
          3,
          2,
          3,
          4,
          3,
          3,
          2,
          3,
          3,
          4,
          3,
          4,
          2,
          5,
          3,
          3,
          3,
          4,
          3,
          3,
          2,
          4,
          3
         ],
         "xaxis": "x3",
         "y": [
          0.9444188221592883,
          0.9434513979471056,
          0.939192024613901,
          0.943558919415604,
          0.9421132479293343,
          0.9422059391714609,
          0.9424396021495983,
          0.9439478331862136,
          0.9423950508000627,
          0.9418273101607534,
          0.9431465505886015,
          0.9437531899560442,
          0.9434529853292873,
          0.9409516719494939,
          0.9409299041086211,
          0.9417451315938673,
          0.9406358737404853,
          0.9441452197466408,
          0.9439211645235478,
          0.9428048255653038,
          0.9433565225698196,
          0.9431328769523212,
          0.9426294129325766,
          0.9447339632659052,
          0.9432217703544902,
          0.9426411123726149,
          0.9453183661214973,
          0.9441372465618834,
          0.9426622985478632,
          0.9445945622196849,
          0.9441193314532539,
          0.9450242577485343,
          0.9445590989140205,
          0.9434774435341772,
          0.9448869830561201,
          0.9445926708433828,
          0.9445941189083013,
          0.9439859512240605,
          0.9440683634844205,
          0.9428175602545913,
          0.9424307095993063,
          0.9457814525314684,
          0.9434957830147467,
          0.9454141127131899,
          0.9431717856316872,
          0.9447253670055531,
          0.9444110524932977,
          0.9434133299864319,
          0.9440657472731404,
          0.9445418784656624
         ],
         "yaxis": "y3"
        },
        {
         "marker": {
          "color": [
           0,
           1,
           2,
           3,
           4,
           5,
           6,
           7,
           8,
           9,
           10,
           11,
           12,
           13,
           14,
           15,
           16,
           17,
           18,
           19,
           20,
           21,
           22,
           23,
           24,
           25,
           26,
           27,
           28,
           29,
           30,
           31,
           32,
           33,
           34,
           35,
           36,
           37,
           38,
           39,
           40,
           41,
           42,
           43,
           44,
           45,
           46,
           47,
           48,
           49
          ],
          "colorbar": {
           "title": {
            "text": "Trial"
           },
           "x": 1,
           "xpad": 40
          },
          "colorscale": [
           [
            0,
            "rgb(247,251,255)"
           ],
           [
            0.125,
            "rgb(222,235,247)"
           ],
           [
            0.25,
            "rgb(198,219,239)"
           ],
           [
            0.375,
            "rgb(158,202,225)"
           ],
           [
            0.5,
            "rgb(107,174,214)"
           ],
           [
            0.625,
            "rgb(66,146,198)"
           ],
           [
            0.75,
            "rgb(33,113,181)"
           ],
           [
            0.875,
            "rgb(8,81,156)"
           ],
           [
            1,
            "rgb(8,48,107)"
           ]
          ],
          "line": {
           "color": "Grey",
           "width": 0.5
          },
          "showscale": false
         },
         "mode": "markers",
         "name": "Feasible Trial",
         "showlegend": false,
         "type": "scatter",
         "x": [
          1171,
          1012,
          933,
          895,
          1108,
          834,
          1458,
          875,
          1161,
          1159,
          1363,
          1288,
          1049,
          1244,
          803,
          969,
          1239,
          1076,
          1074,
          1350,
          1208,
          877,
          1006,
          1108,
          1117,
          1194,
          1067,
          1293,
          1037,
          1116,
          962,
          1130,
          1119,
          1119,
          1004,
          999,
          928,
          1061,
          1021,
          928,
          979,
          1096,
          1084,
          1147,
          1149,
          1179,
          1141,
          1219,
          1500,
          1054
         ],
         "xaxis": "x4",
         "y": [
          0.9444188221592883,
          0.9434513979471056,
          0.939192024613901,
          0.943558919415604,
          0.9421132479293343,
          0.9422059391714609,
          0.9424396021495983,
          0.9439478331862136,
          0.9423950508000627,
          0.9418273101607534,
          0.9431465505886015,
          0.9437531899560442,
          0.9434529853292873,
          0.9409516719494939,
          0.9409299041086211,
          0.9417451315938673,
          0.9406358737404853,
          0.9441452197466408,
          0.9439211645235478,
          0.9428048255653038,
          0.9433565225698196,
          0.9431328769523212,
          0.9426294129325766,
          0.9447339632659052,
          0.9432217703544902,
          0.9426411123726149,
          0.9453183661214973,
          0.9441372465618834,
          0.9426622985478632,
          0.9445945622196849,
          0.9441193314532539,
          0.9450242577485343,
          0.9445590989140205,
          0.9434774435341772,
          0.9448869830561201,
          0.9445926708433828,
          0.9445941189083013,
          0.9439859512240605,
          0.9440683634844205,
          0.9428175602545913,
          0.9424307095993063,
          0.9457814525314684,
          0.9434957830147467,
          0.9454141127131899,
          0.9431717856316872,
          0.9447253670055531,
          0.9444110524932977,
          0.9434133299864319,
          0.9440657472731404,
          0.9445418784656624
         ],
         "yaxis": "y4"
        },
        {
         "marker": {
          "color": [
           0,
           1,
           2,
           3,
           4,
           5,
           6,
           7,
           8,
           9,
           10,
           11,
           12,
           13,
           14,
           15,
           16,
           17,
           18,
           19,
           20,
           21,
           22,
           23,
           24,
           25,
           26,
           27,
           28,
           29,
           30,
           31,
           32,
           33,
           34,
           35,
           36,
           37,
           38,
           39,
           40,
           41,
           42,
           43,
           44,
           45,
           46,
           47,
           48,
           49
          ],
          "colorbar": {
           "title": {
            "text": "Trial"
           },
           "x": 1,
           "xpad": 40
          },
          "colorscale": [
           [
            0,
            "rgb(247,251,255)"
           ],
           [
            0.125,
            "rgb(222,235,247)"
           ],
           [
            0.25,
            "rgb(198,219,239)"
           ],
           [
            0.375,
            "rgb(158,202,225)"
           ],
           [
            0.5,
            "rgb(107,174,214)"
           ],
           [
            0.625,
            "rgb(66,146,198)"
           ],
           [
            0.75,
            "rgb(33,113,181)"
           ],
           [
            0.875,
            "rgb(8,81,156)"
           ],
           [
            1,
            "rgb(8,48,107)"
           ]
          ],
          "line": {
           "color": "Grey",
           "width": 0.5
          },
          "showscale": false
         },
         "mode": "markers",
         "name": "Feasible Trial",
         "showlegend": false,
         "type": "scatter",
         "x": [
          6.49608236156072,
          7.213745550575636,
          9.940110741077433,
          7.168231682778055,
          6.696202398730382,
          8.885279605524655,
          5.801564357142548,
          8.919728128581816,
          9.693623453480045,
          6.825520750739972,
          5.055156361810699,
          8.395231039223958,
          8.142037879190944,
          6.036326273813918,
          8.023811636562836,
          9.071288798590077,
          6.209440983794098,
          7.5150483464396585,
          7.724846385641786,
          5.325485051755596,
          6.602061281491187,
          8.828583283502835,
          9.358315210141587,
          7.482278554553972,
          7.567503083162675,
          7.106933473215116,
          6.413902388632446,
          6.282725982892258,
          5.712625948057856,
          6.495830337093633,
          6.888036367705478,
          6.374152614583883,
          6.457762241779638,
          5.655460838431743,
          7.306338575207354,
          7.078495842337382,
          7.790012377575373,
          8.427441906330234,
          7.175198377532662,
          5.972883578402201,
          7.418145871676842,
          6.448523852836537,
          6.890219971066474,
          7.339284603518149,
          6.7317488850710046,
          6.3260252228953275,
          5.910063297280863,
          5.411915364805595,
          6.9498330378926365,
          7.3024706701580575
         ],
         "xaxis": "x5",
         "y": [
          0.9444188221592883,
          0.9434513979471056,
          0.939192024613901,
          0.943558919415604,
          0.9421132479293343,
          0.9422059391714609,
          0.9424396021495983,
          0.9439478331862136,
          0.9423950508000627,
          0.9418273101607534,
          0.9431465505886015,
          0.9437531899560442,
          0.9434529853292873,
          0.9409516719494939,
          0.9409299041086211,
          0.9417451315938673,
          0.9406358737404853,
          0.9441452197466408,
          0.9439211645235478,
          0.9428048255653038,
          0.9433565225698196,
          0.9431328769523212,
          0.9426294129325766,
          0.9447339632659052,
          0.9432217703544902,
          0.9426411123726149,
          0.9453183661214973,
          0.9441372465618834,
          0.9426622985478632,
          0.9445945622196849,
          0.9441193314532539,
          0.9450242577485343,
          0.9445590989140205,
          0.9434774435341772,
          0.9448869830561201,
          0.9445926708433828,
          0.9445941189083013,
          0.9439859512240605,
          0.9440683634844205,
          0.9428175602545913,
          0.9424307095993063,
          0.9457814525314684,
          0.9434957830147467,
          0.9454141127131899,
          0.9431717856316872,
          0.9447253670055531,
          0.9444110524932977,
          0.9434133299864319,
          0.9440657472731404,
          0.9445418784656624
         ],
         "yaxis": "y5"
        },
        {
         "marker": {
          "color": [
           0,
           1,
           2,
           3,
           4,
           5,
           6,
           7,
           8,
           9,
           10,
           11,
           12,
           13,
           14,
           15,
           16,
           17,
           18,
           19,
           20,
           21,
           22,
           23,
           24,
           25,
           26,
           27,
           28,
           29,
           30,
           31,
           32,
           33,
           34,
           35,
           36,
           37,
           38,
           39,
           40,
           41,
           42,
           43,
           44,
           45,
           46,
           47,
           48,
           49
          ],
          "colorbar": {
           "title": {
            "text": "Trial"
           },
           "x": 1,
           "xpad": 40
          },
          "colorscale": [
           [
            0,
            "rgb(247,251,255)"
           ],
           [
            0.125,
            "rgb(222,235,247)"
           ],
           [
            0.25,
            "rgb(198,219,239)"
           ],
           [
            0.375,
            "rgb(158,202,225)"
           ],
           [
            0.5,
            "rgb(107,174,214)"
           ],
           [
            0.625,
            "rgb(66,146,198)"
           ],
           [
            0.75,
            "rgb(33,113,181)"
           ],
           [
            0.875,
            "rgb(8,81,156)"
           ],
           [
            1,
            "rgb(8,48,107)"
           ]
          ],
          "line": {
           "color": "Grey",
           "width": 0.5
          },
          "showscale": false
         },
         "mode": "markers",
         "name": "Feasible Trial",
         "showlegend": false,
         "type": "scatter",
         "x": [
          0.08730001065254281,
          0.09455849148087528,
          0.08904343813390456,
          0.056420162309349126,
          0.08997477936862638,
          0.055264497343139096,
          0.07929117156817381,
          0.06030154045900804,
          0.08384262160121625,
          0.08666805545335524,
          0.0704804682221655,
          0.06920339437904127,
          0.09973070750112617,
          0.06367211106156977,
          0.05057145355078463,
          0.07887038223385402,
          0.06406175320467755,
          0.07395309695769371,
          0.0753204320316641,
          0.08032819520792116,
          0.07186501787423327,
          0.0633380900365471,
          0.05819943291349927,
          0.09310272866903951,
          0.09356041223771588,
          0.09957266663529026,
          0.0841990792350764,
          0.0939635418502434,
          0.0842409334585318,
          0.09079916035470646,
          0.09099485432239579,
          0.09656119519021858,
          0.09674839332379592,
          0.09173924663238722,
          0.08627395541653658,
          0.0865884105924118,
          0.09636983279373913,
          0.08259865317723734,
          0.0875770951694634,
          0.09649834263543945,
          0.08861841490017805,
          0.09168434119589226,
          0.09296239245196648,
          0.08444760562444853,
          0.085486497797935,
          0.08259394829184818,
          0.07732224907540586,
          0.08923902788719726,
          0.0813412085944605,
          0.09754969607912925
         ],
         "xaxis": "x6",
         "y": [
          0.9444188221592883,
          0.9434513979471056,
          0.939192024613901,
          0.943558919415604,
          0.9421132479293343,
          0.9422059391714609,
          0.9424396021495983,
          0.9439478331862136,
          0.9423950508000627,
          0.9418273101607534,
          0.9431465505886015,
          0.9437531899560442,
          0.9434529853292873,
          0.9409516719494939,
          0.9409299041086211,
          0.9417451315938673,
          0.9406358737404853,
          0.9441452197466408,
          0.9439211645235478,
          0.9428048255653038,
          0.9433565225698196,
          0.9431328769523212,
          0.9426294129325766,
          0.9447339632659052,
          0.9432217703544902,
          0.9426411123726149,
          0.9453183661214973,
          0.9441372465618834,
          0.9426622985478632,
          0.9445945622196849,
          0.9441193314532539,
          0.9450242577485343,
          0.9445590989140205,
          0.9434774435341772,
          0.9448869830561201,
          0.9445926708433828,
          0.9445941189083013,
          0.9439859512240605,
          0.9440683634844205,
          0.9428175602545913,
          0.9424307095993063,
          0.9457814525314684,
          0.9434957830147467,
          0.9454141127131899,
          0.9431717856316872,
          0.9447253670055531,
          0.9444110524932977,
          0.9434133299864319,
          0.9440657472731404,
          0.9445418784656624
         ],
         "yaxis": "y6"
        },
        {
         "marker": {
          "color": [
           0,
           1,
           2,
           3,
           4,
           5,
           6,
           7,
           8,
           9,
           10,
           11,
           12,
           13,
           14,
           15,
           16,
           17,
           18,
           19,
           20,
           21,
           22,
           23,
           24,
           25,
           26,
           27,
           28,
           29,
           30,
           31,
           32,
           33,
           34,
           35,
           36,
           37,
           38,
           39,
           40,
           41,
           42,
           43,
           44,
           45,
           46,
           47,
           48,
           49
          ],
          "colorbar": {
           "title": {
            "text": "Trial"
           },
           "x": 1,
           "xpad": 40
          },
          "colorscale": [
           [
            0,
            "rgb(247,251,255)"
           ],
           [
            0.125,
            "rgb(222,235,247)"
           ],
           [
            0.25,
            "rgb(198,219,239)"
           ],
           [
            0.375,
            "rgb(158,202,225)"
           ],
           [
            0.5,
            "rgb(107,174,214)"
           ],
           [
            0.625,
            "rgb(66,146,198)"
           ],
           [
            0.75,
            "rgb(33,113,181)"
           ],
           [
            0.875,
            "rgb(8,81,156)"
           ],
           [
            1,
            "rgb(8,48,107)"
           ]
          ],
          "line": {
           "color": "Grey",
           "width": 0.5
          },
          "showscale": false
         },
         "mode": "markers",
         "name": "Feasible Trial",
         "showlegend": false,
         "type": "scatter",
         "x": [
          7.10500113703489,
          6.890887628274032,
          8.292041818671379,
          5.169808451840589,
          7.348602639980687,
          8.768421758716373,
          5.161563858955919,
          9.681466075603801,
          5.330019567842646,
          6.1269687924718115,
          4.226950989483852,
          9.576885000811723,
          9.321428037964239,
          7.9036278249640315,
          6.569771259791736,
          9.93990838328186,
          7.683085364137511,
          8.575540415983841,
          8.976112486897224,
          8.421002426710121,
          6.0831003695154,
          9.83120926254904,
          9.033346672559539,
          8.183817730995457,
          7.777387790703275,
          7.209147924800532,
          8.38586890066491,
          8.28239604493688,
          6.778447541187455,
          7.445677827689878,
          7.452900372775596,
          6.968232767215771,
          7.908339708286708,
          6.3672502854746,
          8.253926290137155,
          8.03987232972944,
          7.069148576267827,
          8.208143348115643,
          8.821437714547725,
          9.335902997321135,
          5.616539205186128,
          7.510999845955329,
          6.85283404897545,
          8.569765472270998,
          7.6250663157965555,
          8.66802212863144,
          7.205396261392259,
          8.422641721727096,
          9.068301687657808,
          9.369502365645868
         ],
         "xaxis": "x7",
         "y": [
          0.9444188221592883,
          0.9434513979471056,
          0.939192024613901,
          0.943558919415604,
          0.9421132479293343,
          0.9422059391714609,
          0.9424396021495983,
          0.9439478331862136,
          0.9423950508000627,
          0.9418273101607534,
          0.9431465505886015,
          0.9437531899560442,
          0.9434529853292873,
          0.9409516719494939,
          0.9409299041086211,
          0.9417451315938673,
          0.9406358737404853,
          0.9441452197466408,
          0.9439211645235478,
          0.9428048255653038,
          0.9433565225698196,
          0.9431328769523212,
          0.9426294129325766,
          0.9447339632659052,
          0.9432217703544902,
          0.9426411123726149,
          0.9453183661214973,
          0.9441372465618834,
          0.9426622985478632,
          0.9445945622196849,
          0.9441193314532539,
          0.9450242577485343,
          0.9445590989140205,
          0.9434774435341772,
          0.9448869830561201,
          0.9445926708433828,
          0.9445941189083013,
          0.9439859512240605,
          0.9440683634844205,
          0.9428175602545913,
          0.9424307095993063,
          0.9457814525314684,
          0.9434957830147467,
          0.9454141127131899,
          0.9431717856316872,
          0.9447253670055531,
          0.9444110524932977,
          0.9434133299864319,
          0.9440657472731404,
          0.9445418784656624
         ],
         "yaxis": "y7"
        },
        {
         "marker": {
          "color": [
           0,
           1,
           2,
           3,
           4,
           5,
           6,
           7,
           8,
           9,
           10,
           11,
           12,
           13,
           14,
           15,
           16,
           17,
           18,
           19,
           20,
           21,
           22,
           23,
           24,
           25,
           26,
           27,
           28,
           29,
           30,
           31,
           32,
           33,
           34,
           35,
           36,
           37,
           38,
           39,
           40,
           41,
           42,
           43,
           44,
           45,
           46,
           47,
           48,
           49
          ],
          "colorbar": {
           "title": {
            "text": "Trial"
           },
           "x": 1,
           "xpad": 40
          },
          "colorscale": [
           [
            0,
            "rgb(247,251,255)"
           ],
           [
            0.125,
            "rgb(222,235,247)"
           ],
           [
            0.25,
            "rgb(198,219,239)"
           ],
           [
            0.375,
            "rgb(158,202,225)"
           ],
           [
            0.5,
            "rgb(107,174,214)"
           ],
           [
            0.625,
            "rgb(66,146,198)"
           ],
           [
            0.75,
            "rgb(33,113,181)"
           ],
           [
            0.875,
            "rgb(8,81,156)"
           ],
           [
            1,
            "rgb(8,48,107)"
           ]
          ],
          "line": {
           "color": "Grey",
           "width": 0.5
          },
          "showscale": false
         },
         "mode": "markers",
         "name": "Feasible Trial",
         "showlegend": false,
         "type": "scatter",
         "x": [
          3.61785929465903,
          2.64379218999511,
          2.1150925094358906,
          3.937850604221061,
          7.739252413130245,
          7.244897071829073,
          7.747093289913479,
          5.0442632237227505,
          2.2192597367904723,
          3.2140882475328096,
          5.28425089564801,
          5.078846623739837,
          4.199383935633602,
          6.052604558005194,
          5.9551725189443045,
          3.540230804104582,
          4.53824685688398,
          5.976624372869051,
          6.494738958654587,
          6.707381254881687,
          5.65512619745603,
          4.820836192203977,
          5.455750498865434,
          3.1365059505795965,
          3.12186455131626,
          3.858704328070301,
          2.758624859993902,
          2.622729118276312,
          2.8628279587775887,
          2.582413349521312,
          2.0209603859850462,
          2.679999827943974,
          2.4805699379664854,
          3.3693146122401996,
          2.875010127186187,
          2.886918397711797,
          3.800835176034825,
          2.3262151851120945,
          2.921706682187938,
          4.323400514406434,
          3.4673420895973575,
          2.484717579219497,
          3.145473842170497,
          2.323333235440323,
          2.28441076424597,
          2.013834292539976,
          2.79993880286824,
          2.406100499511983,
          3.6745102661750555,
          2.664099023524454
         ],
         "xaxis": "x8",
         "y": [
          0.9444188221592883,
          0.9434513979471056,
          0.939192024613901,
          0.943558919415604,
          0.9421132479293343,
          0.9422059391714609,
          0.9424396021495983,
          0.9439478331862136,
          0.9423950508000627,
          0.9418273101607534,
          0.9431465505886015,
          0.9437531899560442,
          0.9434529853292873,
          0.9409516719494939,
          0.9409299041086211,
          0.9417451315938673,
          0.9406358737404853,
          0.9441452197466408,
          0.9439211645235478,
          0.9428048255653038,
          0.9433565225698196,
          0.9431328769523212,
          0.9426294129325766,
          0.9447339632659052,
          0.9432217703544902,
          0.9426411123726149,
          0.9453183661214973,
          0.9441372465618834,
          0.9426622985478632,
          0.9445945622196849,
          0.9441193314532539,
          0.9450242577485343,
          0.9445590989140205,
          0.9434774435341772,
          0.9448869830561201,
          0.9445926708433828,
          0.9445941189083013,
          0.9439859512240605,
          0.9440683634844205,
          0.9428175602545913,
          0.9424307095993063,
          0.9457814525314684,
          0.9434957830147467,
          0.9454141127131899,
          0.9431717856316872,
          0.9447253670055531,
          0.9444110524932977,
          0.9434133299864319,
          0.9440657472731404,
          0.9445418784656624
         ],
         "yaxis": "y8"
        }
       ],
       "layout": {
        "template": {
         "data": {
          "bar": [
           {
            "error_x": {
             "color": "#2a3f5f"
            },
            "error_y": {
             "color": "#2a3f5f"
            },
            "marker": {
             "line": {
              "color": "#E5ECF6",
              "width": 0.5
             },
             "pattern": {
              "fillmode": "overlay",
              "size": 10,
              "solidity": 0.2
             }
            },
            "type": "bar"
           }
          ],
          "barpolar": [
           {
            "marker": {
             "line": {
              "color": "#E5ECF6",
              "width": 0.5
             },
             "pattern": {
              "fillmode": "overlay",
              "size": 10,
              "solidity": 0.2
             }
            },
            "type": "barpolar"
           }
          ],
          "carpet": [
           {
            "aaxis": {
             "endlinecolor": "#2a3f5f",
             "gridcolor": "white",
             "linecolor": "white",
             "minorgridcolor": "white",
             "startlinecolor": "#2a3f5f"
            },
            "baxis": {
             "endlinecolor": "#2a3f5f",
             "gridcolor": "white",
             "linecolor": "white",
             "minorgridcolor": "white",
             "startlinecolor": "#2a3f5f"
            },
            "type": "carpet"
           }
          ],
          "choropleth": [
           {
            "colorbar": {
             "outlinewidth": 0,
             "ticks": ""
            },
            "type": "choropleth"
           }
          ],
          "contour": [
           {
            "colorbar": {
             "outlinewidth": 0,
             "ticks": ""
            },
            "colorscale": [
             [
              0,
              "#0d0887"
             ],
             [
              0.1111111111111111,
              "#46039f"
             ],
             [
              0.2222222222222222,
              "#7201a8"
             ],
             [
              0.3333333333333333,
              "#9c179e"
             ],
             [
              0.4444444444444444,
              "#bd3786"
             ],
             [
              0.5555555555555556,
              "#d8576b"
             ],
             [
              0.6666666666666666,
              "#ed7953"
             ],
             [
              0.7777777777777778,
              "#fb9f3a"
             ],
             [
              0.8888888888888888,
              "#fdca26"
             ],
             [
              1,
              "#f0f921"
             ]
            ],
            "type": "contour"
           }
          ],
          "contourcarpet": [
           {
            "colorbar": {
             "outlinewidth": 0,
             "ticks": ""
            },
            "type": "contourcarpet"
           }
          ],
          "heatmap": [
           {
            "colorbar": {
             "outlinewidth": 0,
             "ticks": ""
            },
            "colorscale": [
             [
              0,
              "#0d0887"
             ],
             [
              0.1111111111111111,
              "#46039f"
             ],
             [
              0.2222222222222222,
              "#7201a8"
             ],
             [
              0.3333333333333333,
              "#9c179e"
             ],
             [
              0.4444444444444444,
              "#bd3786"
             ],
             [
              0.5555555555555556,
              "#d8576b"
             ],
             [
              0.6666666666666666,
              "#ed7953"
             ],
             [
              0.7777777777777778,
              "#fb9f3a"
             ],
             [
              0.8888888888888888,
              "#fdca26"
             ],
             [
              1,
              "#f0f921"
             ]
            ],
            "type": "heatmap"
           }
          ],
          "heatmapgl": [
           {
            "colorbar": {
             "outlinewidth": 0,
             "ticks": ""
            },
            "colorscale": [
             [
              0,
              "#0d0887"
             ],
             [
              0.1111111111111111,
              "#46039f"
             ],
             [
              0.2222222222222222,
              "#7201a8"
             ],
             [
              0.3333333333333333,
              "#9c179e"
             ],
             [
              0.4444444444444444,
              "#bd3786"
             ],
             [
              0.5555555555555556,
              "#d8576b"
             ],
             [
              0.6666666666666666,
              "#ed7953"
             ],
             [
              0.7777777777777778,
              "#fb9f3a"
             ],
             [
              0.8888888888888888,
              "#fdca26"
             ],
             [
              1,
              "#f0f921"
             ]
            ],
            "type": "heatmapgl"
           }
          ],
          "histogram": [
           {
            "marker": {
             "pattern": {
              "fillmode": "overlay",
              "size": 10,
              "solidity": 0.2
             }
            },
            "type": "histogram"
           }
          ],
          "histogram2d": [
           {
            "colorbar": {
             "outlinewidth": 0,
             "ticks": ""
            },
            "colorscale": [
             [
              0,
              "#0d0887"
             ],
             [
              0.1111111111111111,
              "#46039f"
             ],
             [
              0.2222222222222222,
              "#7201a8"
             ],
             [
              0.3333333333333333,
              "#9c179e"
             ],
             [
              0.4444444444444444,
              "#bd3786"
             ],
             [
              0.5555555555555556,
              "#d8576b"
             ],
             [
              0.6666666666666666,
              "#ed7953"
             ],
             [
              0.7777777777777778,
              "#fb9f3a"
             ],
             [
              0.8888888888888888,
              "#fdca26"
             ],
             [
              1,
              "#f0f921"
             ]
            ],
            "type": "histogram2d"
           }
          ],
          "histogram2dcontour": [
           {
            "colorbar": {
             "outlinewidth": 0,
             "ticks": ""
            },
            "colorscale": [
             [
              0,
              "#0d0887"
             ],
             [
              0.1111111111111111,
              "#46039f"
             ],
             [
              0.2222222222222222,
              "#7201a8"
             ],
             [
              0.3333333333333333,
              "#9c179e"
             ],
             [
              0.4444444444444444,
              "#bd3786"
             ],
             [
              0.5555555555555556,
              "#d8576b"
             ],
             [
              0.6666666666666666,
              "#ed7953"
             ],
             [
              0.7777777777777778,
              "#fb9f3a"
             ],
             [
              0.8888888888888888,
              "#fdca26"
             ],
             [
              1,
              "#f0f921"
             ]
            ],
            "type": "histogram2dcontour"
           }
          ],
          "mesh3d": [
           {
            "colorbar": {
             "outlinewidth": 0,
             "ticks": ""
            },
            "type": "mesh3d"
           }
          ],
          "parcoords": [
           {
            "line": {
             "colorbar": {
              "outlinewidth": 0,
              "ticks": ""
             }
            },
            "type": "parcoords"
           }
          ],
          "pie": [
           {
            "automargin": true,
            "type": "pie"
           }
          ],
          "scatter": [
           {
            "fillpattern": {
             "fillmode": "overlay",
             "size": 10,
             "solidity": 0.2
            },
            "type": "scatter"
           }
          ],
          "scatter3d": [
           {
            "line": {
             "colorbar": {
              "outlinewidth": 0,
              "ticks": ""
             }
            },
            "marker": {
             "colorbar": {
              "outlinewidth": 0,
              "ticks": ""
             }
            },
            "type": "scatter3d"
           }
          ],
          "scattercarpet": [
           {
            "marker": {
             "colorbar": {
              "outlinewidth": 0,
              "ticks": ""
             }
            },
            "type": "scattercarpet"
           }
          ],
          "scattergeo": [
           {
            "marker": {
             "colorbar": {
              "outlinewidth": 0,
              "ticks": ""
             }
            },
            "type": "scattergeo"
           }
          ],
          "scattergl": [
           {
            "marker": {
             "colorbar": {
              "outlinewidth": 0,
              "ticks": ""
             }
            },
            "type": "scattergl"
           }
          ],
          "scattermapbox": [
           {
            "marker": {
             "colorbar": {
              "outlinewidth": 0,
              "ticks": ""
             }
            },
            "type": "scattermapbox"
           }
          ],
          "scatterpolar": [
           {
            "marker": {
             "colorbar": {
              "outlinewidth": 0,
              "ticks": ""
             }
            },
            "type": "scatterpolar"
           }
          ],
          "scatterpolargl": [
           {
            "marker": {
             "colorbar": {
              "outlinewidth": 0,
              "ticks": ""
             }
            },
            "type": "scatterpolargl"
           }
          ],
          "scatterternary": [
           {
            "marker": {
             "colorbar": {
              "outlinewidth": 0,
              "ticks": ""
             }
            },
            "type": "scatterternary"
           }
          ],
          "surface": [
           {
            "colorbar": {
             "outlinewidth": 0,
             "ticks": ""
            },
            "colorscale": [
             [
              0,
              "#0d0887"
             ],
             [
              0.1111111111111111,
              "#46039f"
             ],
             [
              0.2222222222222222,
              "#7201a8"
             ],
             [
              0.3333333333333333,
              "#9c179e"
             ],
             [
              0.4444444444444444,
              "#bd3786"
             ],
             [
              0.5555555555555556,
              "#d8576b"
             ],
             [
              0.6666666666666666,
              "#ed7953"
             ],
             [
              0.7777777777777778,
              "#fb9f3a"
             ],
             [
              0.8888888888888888,
              "#fdca26"
             ],
             [
              1,
              "#f0f921"
             ]
            ],
            "type": "surface"
           }
          ],
          "table": [
           {
            "cells": {
             "fill": {
              "color": "#EBF0F8"
             },
             "line": {
              "color": "white"
             }
            },
            "header": {
             "fill": {
              "color": "#C8D4E3"
             },
             "line": {
              "color": "white"
             }
            },
            "type": "table"
           }
          ]
         },
         "layout": {
          "annotationdefaults": {
           "arrowcolor": "#2a3f5f",
           "arrowhead": 0,
           "arrowwidth": 1
          },
          "autotypenumbers": "strict",
          "coloraxis": {
           "colorbar": {
            "outlinewidth": 0,
            "ticks": ""
           }
          },
          "colorscale": {
           "diverging": [
            [
             0,
             "#8e0152"
            ],
            [
             0.1,
             "#c51b7d"
            ],
            [
             0.2,
             "#de77ae"
            ],
            [
             0.3,
             "#f1b6da"
            ],
            [
             0.4,
             "#fde0ef"
            ],
            [
             0.5,
             "#f7f7f7"
            ],
            [
             0.6,
             "#e6f5d0"
            ],
            [
             0.7,
             "#b8e186"
            ],
            [
             0.8,
             "#7fbc41"
            ],
            [
             0.9,
             "#4d9221"
            ],
            [
             1,
             "#276419"
            ]
           ],
           "sequential": [
            [
             0,
             "#0d0887"
            ],
            [
             0.1111111111111111,
             "#46039f"
            ],
            [
             0.2222222222222222,
             "#7201a8"
            ],
            [
             0.3333333333333333,
             "#9c179e"
            ],
            [
             0.4444444444444444,
             "#bd3786"
            ],
            [
             0.5555555555555556,
             "#d8576b"
            ],
            [
             0.6666666666666666,
             "#ed7953"
            ],
            [
             0.7777777777777778,
             "#fb9f3a"
            ],
            [
             0.8888888888888888,
             "#fdca26"
            ],
            [
             1,
             "#f0f921"
            ]
           ],
           "sequentialminus": [
            [
             0,
             "#0d0887"
            ],
            [
             0.1111111111111111,
             "#46039f"
            ],
            [
             0.2222222222222222,
             "#7201a8"
            ],
            [
             0.3333333333333333,
             "#9c179e"
            ],
            [
             0.4444444444444444,
             "#bd3786"
            ],
            [
             0.5555555555555556,
             "#d8576b"
            ],
            [
             0.6666666666666666,
             "#ed7953"
            ],
            [
             0.7777777777777778,
             "#fb9f3a"
            ],
            [
             0.8888888888888888,
             "#fdca26"
            ],
            [
             1,
             "#f0f921"
            ]
           ]
          },
          "colorway": [
           "#636efa",
           "#EF553B",
           "#00cc96",
           "#ab63fa",
           "#FFA15A",
           "#19d3f3",
           "#FF6692",
           "#B6E880",
           "#FF97FF",
           "#FECB52"
          ],
          "font": {
           "color": "#2a3f5f"
          },
          "geo": {
           "bgcolor": "white",
           "lakecolor": "white",
           "landcolor": "#E5ECF6",
           "showlakes": true,
           "showland": true,
           "subunitcolor": "white"
          },
          "hoverlabel": {
           "align": "left"
          },
          "hovermode": "closest",
          "mapbox": {
           "style": "light"
          },
          "paper_bgcolor": "white",
          "plot_bgcolor": "#E5ECF6",
          "polar": {
           "angularaxis": {
            "gridcolor": "white",
            "linecolor": "white",
            "ticks": ""
           },
           "bgcolor": "#E5ECF6",
           "radialaxis": {
            "gridcolor": "white",
            "linecolor": "white",
            "ticks": ""
           }
          },
          "scene": {
           "xaxis": {
            "backgroundcolor": "#E5ECF6",
            "gridcolor": "white",
            "gridwidth": 2,
            "linecolor": "white",
            "showbackground": true,
            "ticks": "",
            "zerolinecolor": "white"
           },
           "yaxis": {
            "backgroundcolor": "#E5ECF6",
            "gridcolor": "white",
            "gridwidth": 2,
            "linecolor": "white",
            "showbackground": true,
            "ticks": "",
            "zerolinecolor": "white"
           },
           "zaxis": {
            "backgroundcolor": "#E5ECF6",
            "gridcolor": "white",
            "gridwidth": 2,
            "linecolor": "white",
            "showbackground": true,
            "ticks": "",
            "zerolinecolor": "white"
           }
          },
          "shapedefaults": {
           "line": {
            "color": "#2a3f5f"
           }
          },
          "ternary": {
           "aaxis": {
            "gridcolor": "white",
            "linecolor": "white",
            "ticks": ""
           },
           "baxis": {
            "gridcolor": "white",
            "linecolor": "white",
            "ticks": ""
           },
           "bgcolor": "#E5ECF6",
           "caxis": {
            "gridcolor": "white",
            "linecolor": "white",
            "ticks": ""
           }
          },
          "title": {
           "x": 0.05
          },
          "xaxis": {
           "automargin": true,
           "gridcolor": "white",
           "linecolor": "white",
           "ticks": "",
           "title": {
            "standoff": 15
           },
           "zerolinecolor": "white",
           "zerolinewidth": 2
          },
          "yaxis": {
           "automargin": true,
           "gridcolor": "white",
           "linecolor": "white",
           "ticks": "",
           "title": {
            "standoff": 15
           },
           "zerolinecolor": "white",
           "zerolinewidth": 2
          }
         }
        },
        "title": {
         "text": "Slice Plot"
        },
        "width": 2400,
        "xaxis": {
         "anchor": "y",
         "domain": [
          0,
          0.103125
         ],
         "title": {
          "text": "bagging_temperature"
         }
        },
        "xaxis2": {
         "anchor": "y2",
         "domain": [
          0.128125,
          0.23124999999999998
         ],
         "title": {
          "text": "border_count"
         }
        },
        "xaxis3": {
         "anchor": "y3",
         "domain": [
          0.25625,
          0.359375
         ],
         "title": {
          "text": "depth"
         }
        },
        "xaxis4": {
         "anchor": "y4",
         "domain": [
          0.38437499999999997,
          0.48749999999999993
         ],
         "title": {
          "text": "iterations"
         }
        },
        "xaxis5": {
         "anchor": "y5",
         "domain": [
          0.5125,
          0.615625
         ],
         "title": {
          "text": "l2_leaf_reg"
         }
        },
        "xaxis6": {
         "anchor": "y6",
         "domain": [
          0.640625,
          0.74375
         ],
         "title": {
          "text": "learning_rate"
         }
        },
        "xaxis7": {
         "anchor": "y7",
         "domain": [
          0.7687499999999999,
          0.871875
         ],
         "title": {
          "text": "random_strength"
         }
        },
        "xaxis8": {
         "anchor": "y8",
         "domain": [
          0.896875,
          1
         ],
         "title": {
          "text": "scale_pos_weight"
         }
        },
        "yaxis": {
         "anchor": "x",
         "domain": [
          0,
          1
         ],
         "title": {
          "text": "Objective Value"
         }
        },
        "yaxis2": {
         "anchor": "x2",
         "domain": [
          0,
          1
         ],
         "matches": "y",
         "showticklabels": false
        },
        "yaxis3": {
         "anchor": "x3",
         "domain": [
          0,
          1
         ],
         "matches": "y",
         "showticklabels": false
        },
        "yaxis4": {
         "anchor": "x4",
         "domain": [
          0,
          1
         ],
         "matches": "y",
         "showticklabels": false
        },
        "yaxis5": {
         "anchor": "x5",
         "domain": [
          0,
          1
         ],
         "matches": "y",
         "showticklabels": false
        },
        "yaxis6": {
         "anchor": "x6",
         "domain": [
          0,
          1
         ],
         "matches": "y",
         "showticklabels": false
        },
        "yaxis7": {
         "anchor": "x7",
         "domain": [
          0,
          1
         ],
         "matches": "y",
         "showticklabels": false
        },
        "yaxis8": {
         "anchor": "x8",
         "domain": [
          0,
          1
         ],
         "matches": "y",
         "showticklabels": false
        }
       }
      }
     },
     "metadata": {},
     "output_type": "display_data"
    }
   ],
   "source": [
    "ov.plot_slice(study).show()"
   ]
  },
  {
   "cell_type": "code",
   "execution_count": null,
   "metadata": {},
   "outputs": [],
   "source": [
    "def objective_func(trial):\n",
    "    # test 3\n",
    "    params = {\n",
    "        'iterations': trial.suggest_int('iterations', 800, 1500),\n",
    "        'depth': trial.suggest_int('depth', 2, 6),\n",
    "        'learning_rate': trial.suggest_float('learning_rate', 0.05, 0.1),\n",
    "        'l2_leaf_reg': trial.suggest_float('l2_leaf_reg', 5, 10),\n",
    "        'border_count': trial.suggest_int('border_count', 210, 350),\n",
    "        'random_strength': trial.suggest_float('random_strength', 4,10),\n",
    "        'bagging_temperature': trial.suggest_float('bagging_temperature',1,2),\n",
    "        'scale_pos_weight': trial.suggest_float('scale_pos_weight', 2, 8),\n",
    "        'verbose': False,\n",
    "        'task_type': 'CPU',\n",
    "    }\n",
    "\n",
    "\n",
    "    skf = StratifiedKFold(n_splits=NUM_FOLD, shuffle=True, random_state=42)\n",
    "    scores = []\n",
    "\n",
    "    for train_idx, valid_idx in skf.split(X, y):\n",
    "        X_train, X_valid = X.iloc[train_idx], X.iloc[valid_idx]\n",
    "        y_train, y_valid = y.iloc[train_idx], y.iloc[valid_idx]\n",
    "\n",
    "        model = CatBoostClassifier(**params,cat_features=cat_cols)\n",
    "        model.fit(X_train, y_train, eval_set=[(X_valid, y_valid)], early_stopping_rounds=100, verbose=False)\n",
    "        y_pred = model.predict_proba(X_valid)[:, 1]\n",
    "        score = roc_auc_score(y_valid, y_pred)\n",
    "        scores.append(score)\n",
    "\n",
    "    return np.mean(scores)"
   ]
  }
 ],
 "metadata": {
  "kernelspec": {
   "display_name": "kaggleEnv",
   "language": "python",
   "name": "python3"
  },
  "language_info": {
   "codemirror_mode": {
    "name": "ipython",
    "version": 3
   },
   "file_extension": ".py",
   "mimetype": "text/x-python",
   "name": "python",
   "nbconvert_exporter": "python",
   "pygments_lexer": "ipython3",
   "version": "3.12.5"
  }
 },
 "nbformat": 4,
 "nbformat_minor": 2
}
