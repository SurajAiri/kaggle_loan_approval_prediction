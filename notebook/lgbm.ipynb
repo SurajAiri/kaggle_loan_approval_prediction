{
 "cells": [
  {
   "cell_type": "code",
   "execution_count": 2,
   "metadata": {},
   "outputs": [],
   "source": [
    "import warnings\n",
    "warnings.filterwarnings(\"ignore\")\n",
    "\n",
    "import numpy as np\n",
    "import pandas as pd\n",
    "from xgboost import XGBClassifier\n",
    "from sklearn.metrics import roc_auc_score\n",
    "from sklearn.model_selection import StratifiedKFold\n",
    "from catboost import CatBoostClassifier\n",
    "from sklearn.model_selection import train_test_split\n",
    "import matplotlib.pyplot as plt"
   ]
  },
  {
   "cell_type": "code",
   "execution_count": 3,
   "metadata": {},
   "outputs": [],
   "source": [
    "\n",
    "NUM_FOLD = 5\n",
    "\n",
    "train = pd.read_csv('../dataset/train.csv', index_col='id')\n",
    "test = pd.read_csv('../dataset/test.csv', index_col='id')\n",
    "original = pd.read_csv('../dataset/original.csv')\n",
    "sample_submission = pd.read_csv('../dataset/sample_submission.csv')\n",
    "\n",
    "# accepted_cols = ['person_income', 'person_home_ownership', 'loan_intent',\n",
    "#        'loan_grade', 'loan_int_rate', 'loan_percent_income','loan_status']\n",
    "\n",
    "# train = train[accepted_cols]\n",
    "# original = original[accepted_cols]\n",
    "# accepted_cols.remove(\"loan_status\")\n",
    "# test = test[accepted_cols]\n",
    "\n",
    "\n",
    "\n",
    "cat_cols = list(test.select_dtypes(include=['object']).columns)\n",
    "\n",
    "for df in [train, test, original]:\n",
    "    for col in cat_cols:\n",
    "        df[col] = df[col].astype('str').astype('category')\n",
    "\n",
    "\n",
    "X = train.drop(['loan_status'], axis=1)\n",
    "y = train['loan_status']\n",
    "X_original = original.drop(['loan_status'], axis=1)\n",
    "y_original = original['loan_status']\n",
    "\n",
    "\n",
    "\n"
   ]
  },
  {
   "cell_type": "code",
   "execution_count": 6,
   "metadata": {},
   "outputs": [
    {
     "name": "stdout",
     "output_type": "stream",
     "text": [
      "Fold 1\n",
      "AUC:  0.9525559676947923\n",
      "Fold 2\n",
      "AUC:  0.9636808696951459\n",
      "Fold 3\n",
      "AUC:  0.9577705906409668\n",
      "Fold 4\n",
      "AUC:  0.9619959603608172\n",
      "Fold 5\n",
      "AUC:  0.9590644538539981\n"
     ]
    }
   ],
   "source": [
    "params = {\n",
    "    'verbose':-1,\n",
    "    'random_state':42,\n",
    "    'data_sample_strategy':'goss',\n",
    "    'n_estimators':4000,\n",
    "    'learning_rate':0.01,\n",
    "    'col_sample_bytree':0.6,\n",
    "    'max_depth':17,\n",
    "    'max_bin': 4000\n",
    "}\n",
    "\n",
    "from lightgbm import LGBMClassifier\n",
    "\n",
    "model = LGBMClassifier(**params)\n",
    "\n",
    "skf = StratifiedKFold(n_splits=NUM_FOLD, shuffle=True, random_state=42)\n",
    "oof = np.zeros(len(train))\n",
    "predictions = np.zeros(len(test))\n",
    "feature_importance_df = pd.DataFrame()\n",
    "\n",
    "for fold, (trn_idx, val_idx) in enumerate(skf.split(X, y)):\n",
    "    print(f\"Fold {fold + 1}\")\n",
    "    X_train, y_train = X.iloc[trn_idx], y.iloc[trn_idx]\n",
    "    X_valid, y_valid = X.iloc[val_idx], y.iloc[val_idx]\n",
    "    model.fit(X_train, y_train, eval_set=[(X_train, y_train), (X_valid, y_valid)])\n",
    "    oof[val_idx] = model.predict_proba(X_valid)[:, 1]\n",
    "    predictions += model.predict_proba(test)[:, 1] / NUM_FOLD\n",
    "    fold_importance_df = pd.DataFrame()\n",
    "    fold_importance_df[\"feature\"] = X.columns\n",
    "    fold_importance_df[\"importance\"] = model.feature_importances_\n",
    "    fold_importance_df[\"fold\"] = fold + 1\n",
    "    feature_importance_df = pd.concat([feature_importance_df, fold_importance_df], axis=0)\n",
    "    print(\"AUC: \", roc_auc_score(y_valid, oof[val_idx]))\n"
   ]
  },
  {
   "cell_type": "code",
   "execution_count": 8,
   "metadata": {},
   "outputs": [],
   "source": [
    "# prediction\n",
    "\n",
    "preds = model.predict_proba(test)[:, 1]"
   ]
  },
  {
   "cell_type": "code",
   "execution_count": 10,
   "metadata": {},
   "outputs": [],
   "source": [
    "submission = pd.DataFrame({'id': test.index, 'loan_status': preds})"
   ]
  },
  {
   "cell_type": "code",
   "execution_count": 11,
   "metadata": {},
   "outputs": [],
   "source": [
    "submission.to_csv('submission_lgb.csv', index=False)"
   ]
  },
  {
   "cell_type": "code",
   "execution_count": null,
   "metadata": {},
   "outputs": [],
   "source": []
  }
 ],
 "metadata": {
  "kernelspec": {
   "display_name": "kaggleEnv",
   "language": "python",
   "name": "python3"
  },
  "language_info": {
   "codemirror_mode": {
    "name": "ipython",
    "version": 3
   },
   "file_extension": ".py",
   "mimetype": "text/x-python",
   "name": "python",
   "nbconvert_exporter": "python",
   "pygments_lexer": "ipython3",
   "version": "3.12.5"
  }
 },
 "nbformat": 4,
 "nbformat_minor": 2
}
